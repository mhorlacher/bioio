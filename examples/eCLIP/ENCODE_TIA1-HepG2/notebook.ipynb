{
 "cells": [
  {
   "cell_type": "code",
   "execution_count": 2,
   "metadata": {},
   "outputs": [
    {
     "name": "stderr",
     "output_type": "stream",
     "text": [
      "/home/marc/.miniconda/envs/bioio/lib/python3.10/site-packages/tqdm/auto.py:21: TqdmWarning: IProgress not found. Please update jupyter and ipywidgets. See https://ipywidgets.readthedocs.io/en/stable/user_install.html\n",
      "  from .autonotebook import tqdm as notebook_tqdm\n"
     ]
    }
   ],
   "source": [
    "import bioio\n",
    "import tensorflow as tf"
   ]
  },
  {
   "cell_type": "code",
   "execution_count": null,
   "metadata": {},
   "outputs": [],
   "source": [
    "dataset = bioio.load_biospec('biospec.yml')\n",
    "dataset"
   ]
  },
  {
   "cell_type": "code",
   "execution_count": null,
   "metadata": {},
   "outputs": [],
   "source": [
    "x = next(iter(dataset))\n",
    "x"
   ]
  },
  {
   "cell_type": "code",
   "execution_count": null,
   "metadata": {},
   "outputs": [],
   "source": [
    "bioio.tf.dataset_to_tfrecord(dataset, 'test.tfrecord', encoding='bytes')"
   ]
  },
  {
   "cell_type": "code",
   "execution_count": null,
   "metadata": {},
   "outputs": [],
   "source": [
    "tf.sparse.from_dense(x['outputs']['SomeTask']['total'])"
   ]
  },
  {
   "cell_type": "code",
   "execution_count": null,
   "metadata": {},
   "outputs": [],
   "source": [
    "import tensorflow_datasets as tfds"
   ]
  },
  {
   "cell_type": "code",
   "execution_count": null,
   "metadata": {},
   "outputs": [],
   "source": [
    "tfds.dataset_builders.store_as_tfds_dataset(name='ENCODE_TIA1-HepG2', version='0.0.1', split_datasets = {'train': dataset}, features=features, data_dir='test_tfds')"
   ]
  },
  {
   "cell_type": "code",
   "execution_count": null,
   "metadata": {},
   "outputs": [],
   "source": [
    "tfds.dataset_builders.TfDataBuilder(name='ENCODE_TIA1-HepG2', version='0.0.1', split_datasets = {'train': dataset}, data_dir='test_tfds')"
   ]
  },
  {
   "cell_type": "code",
   "execution_count": null,
   "metadata": {},
   "outputs": [],
   "source": []
  },
  {
   "cell_type": "code",
   "execution_count": 3,
   "metadata": {},
   "outputs": [
    {
     "name": "stdout",
     "output_type": "stream",
     "text": [
      "<_PrefetchDataset element_spec={'outputs': {'SomeTask': {'control': SparseTensorSpec(TensorShape(None), tf.float32), 'total': SparseTensorSpec(TensorShape(None), tf.float32)}}}>\n"
     ]
    },
    {
     "data": {
      "text/plain": [
       "{'outputs': {'SomeTask': {'control': SparseTensor(indices=tf.Tensor([], shape=(0, 1), dtype=int64), values=tf.Tensor([], shape=(0,), dtype=float32), dense_shape=tf.Tensor([201], shape=(1,), dtype=int64)),\n",
       "   'total': SparseTensor(indices=tf.Tensor(\n",
       "   [[  0]\n",
       "    [  1]\n",
       "    [  2]\n",
       "    [  3]\n",
       "    [  4]\n",
       "    [  5]\n",
       "    [  6]\n",
       "    [  7]\n",
       "    [  8]\n",
       "    [  9]\n",
       "    [ 10]\n",
       "    [ 11]\n",
       "    [ 12]\n",
       "    [ 13]\n",
       "    [ 14]\n",
       "    [ 16]\n",
       "    [ 17]\n",
       "    [ 24]\n",
       "    [ 92]\n",
       "    [ 99]\n",
       "    [100]\n",
       "    [101]\n",
       "    [102]\n",
       "    [103]\n",
       "    [104]\n",
       "    [105]\n",
       "    [106]\n",
       "    [107]\n",
       "    [108]\n",
       "    [109]\n",
       "    [110]\n",
       "    [111]\n",
       "    [112]\n",
       "    [113]\n",
       "    [114]\n",
       "    [115]\n",
       "    [116]\n",
       "    [117]\n",
       "    [118]\n",
       "    [119]\n",
       "    [120]\n",
       "    [121]\n",
       "    [122]\n",
       "    [123]\n",
       "    [124]\n",
       "    [125]\n",
       "    [128]\n",
       "    [130]\n",
       "    [131]\n",
       "    [138]\n",
       "    [139]\n",
       "    [140]\n",
       "    [141]\n",
       "    [142]\n",
       "    [143]\n",
       "    [144]\n",
       "    [145]\n",
       "    [146]\n",
       "    [147]\n",
       "    [148]\n",
       "    [149]\n",
       "    [152]\n",
       "    [153]\n",
       "    [154]\n",
       "    [155]\n",
       "    [156]\n",
       "    [157]\n",
       "    [158]\n",
       "    [159]\n",
       "    [160]\n",
       "    [163]\n",
       "    [165]\n",
       "    [166]\n",
       "    [167]\n",
       "    [168]\n",
       "    [171]\n",
       "    [172]\n",
       "    [174]\n",
       "    [176]\n",
       "    [178]], shape=(80, 1), dtype=int64), values=tf.Tensor(\n",
       "   [  1.   3.   1.   1.   3.   5.   5.   2.  11.   1.   2.   6.   5.   2.\n",
       "      2.   2.   2.   2.   1.  38. 119. 324. 103.  32.  29.  18.  44.  15.\n",
       "     23.  37.   6.   2.   3.   2.   1.   1.   4.   2.   7.   8.   4.   1.\n",
       "      3.   2.   4.   1.   6.   1.   1.   5.   2.   2.   4.   2.   2.   3.\n",
       "      2.   2.  14.   3.   2.   1.   3.   3.   4.   7.   1.   1.   1.   2.\n",
       "      3.   1.   1.   1.   7.   1.   1.   2.   6.   1.], shape=(80,), dtype=float32), dense_shape=tf.Tensor([201], shape=(1,), dtype=int64))}}}"
      ]
     },
     "execution_count": 3,
     "metadata": {},
     "output_type": "execute_result"
    }
   ],
   "source": [
    "dataset = bioio.tf.load_tfrecord('test.tfrecord')\n",
    "print(dataset)\n",
    "\n",
    "x = next(iter(dataset))\n",
    "x\n",
    "\n",
    "# def to_sparse_if_dense(x):\n",
    "#     if isinstance(x, tf.SparseTensor):\n",
    "#         return tf.sparse.to_dense(x)\n",
    "#     else:\n",
    "#         return x\n",
    "\n",
    "# dataset = dataset.map(lambda x: tf.nest.map_structure(to_sparse_if_dense, x))\n",
    "# print(dataset)\n",
    "\n",
    "# x = next(iter(dataset))\n",
    "# x"
   ]
  },
  {
   "cell_type": "code",
   "execution_count": null,
   "metadata": {},
   "outputs": [],
   "source": [
    "tf.sparse.to_dense(x['outputs']['SomeTask']['total'])"
   ]
  },
  {
   "cell_type": "code",
   "execution_count": null,
   "metadata": {},
   "outputs": [],
   "source": []
  },
  {
   "cell_type": "code",
   "execution_count": null,
   "metadata": {},
   "outputs": [],
   "source": [
    "import tensorflow as tf\n",
    "import tensorflow_datasets as tfds\n",
    "\n",
    "from tensorflow_datasets.core.proto import feature_pb2\n",
    "from tensorflow_datasets.core.features import feature as feature_lib\n",
    "\n",
    "class SparseTensor(tfds.features.FeatureConnector):\n",
    "    def __init__(self, dtype, **kwargs):\n",
    "        self._dtype = dtype\n",
    "        self._doc = tfds.features.Documentation()\n",
    "\n",
    "        self._st_feature_dict = tfds.features.FeaturesDict(\n",
    "            {\n",
    "                'indices': tfds.features.Tensor(shape=(None, None), dtype=tf.int64, encoding='bytes'),\n",
    "                'values': tfds.features.Tensor(shape=(None, ), dtype=self._dtype),\n",
    "                'dense_shape': tfds.features.Tensor(shape=(None, ), dtype=tf.int64),\n",
    "            },\n",
    "        )\n",
    "\n",
    "    def _cast_to_numpy(self, x):\n",
    "        if isinstance(x, tf.Tensor):\n",
    "            x = x.numpy()\n",
    "        return x\n",
    "\n",
    "    def _sparse_to_dict(self, example_data):\n",
    "        return {\n",
    "            'indices': self._cast_to_numpy(example_data.indices),\n",
    "            'values': self._cast_to_numpy(example_data.values),\n",
    "            'dense_shape': self._cast_to_numpy(example_data.dense_shape)\n",
    "        }\n",
    "\n",
    "    def _dict_to_sparse(self, example_data_dict):\n",
    "        return tf.SparseTensor(\n",
    "            indices = example_data_dict['indices'],\n",
    "            values = example_data_dict['values'],\n",
    "            dense_shape = example_data_dict['dense_shape'],\n",
    "        )\n",
    "\n",
    "    def get_serialized_info(self):\n",
    "        return self._st_feature_dict.get_serialized_info()\n",
    "\n",
    "    def get_tensor_info(self):\n",
    "        return None\n",
    "    \n",
    "    # def to_json_content(self):\n",
    "    #     return self._st_feature_dict.to_json_content()\n",
    "\n",
    "    def to_json_content(self) -> feature_pb2.TensorFeature:\n",
    "        return feature_pb2.TensorFeature(\n",
    "            dtype=feature_lib.dtype_to_str(self._dtype),\n",
    "            # encoding=self._encoding.value,\n",
    "        )\n",
    "\n",
    "    @classmethod\n",
    "    def from_json_content(self, value):\n",
    "        return SparseTensor(dtype=feature_lib.dtype_from_str(value.dtype))\n",
    "\n",
    "    def encode_example(self, example: tf.SparseTensor):\n",
    "        example_as_dict = self._sparse_to_dict(example)\n",
    "        return self._st_feature_dict.encode_example(example_as_dict)\n",
    "\n",
    "    def decode_example(self, encoded_example: bytes):\n",
    "        example_as_dict = self._st_feature_dict.decode_example(encoded_example)\n",
    "        return self._dict_to_sparse(example_as_dict)\n",
    "\n",
    "stf = SparseTensor(tf.float32)\n",
    "stf.to_json()"
   ]
  },
  {
   "cell_type": "code",
   "execution_count": null,
   "metadata": {},
   "outputs": [],
   "source": [
    "# %%\n",
    "def features_to_json_file(features, filepath, indent=2):\n",
    "    with open(filepath, 'w') as json_file:\n",
    "        print(json.dumps(features.to_json(), indent=indent), file=json_file)\n",
    "\n",
    "# %%\n",
    "def features_from_json_file(filepath):\n",
    "    with open(filepath) as json_file:\n",
    "        features = tfds.features.FeaturesDict.from_json(json.load(json_file))\n",
    "    return features\n",
    "\n",
    "st_feature = tfds.features.FeaturesDict({\n",
    "    'example': SparseTensor(dtype=tf.int32)\n",
    "})\n",
    "\n",
    "tfds.features.FeaturesDict.from_json(st_feature.to_json())"
   ]
  },
  {
   "cell_type": "code",
   "execution_count": null,
   "metadata": {},
   "outputs": [],
   "source": []
  },
  {
   "cell_type": "code",
   "execution_count": null,
   "metadata": {},
   "outputs": [],
   "source": []
  }
 ],
 "metadata": {
  "kernelspec": {
   "display_name": "bioio",
   "language": "python",
   "name": "python3"
  },
  "language_info": {
   "codemirror_mode": {
    "name": "ipython",
    "version": 3
   },
   "file_extension": ".py",
   "mimetype": "text/x-python",
   "name": "python",
   "nbconvert_exporter": "python",
   "pygments_lexer": "ipython3",
   "version": "3.10.11"
  },
  "orig_nbformat": 4
 },
 "nbformat": 4,
 "nbformat_minor": 2
}
