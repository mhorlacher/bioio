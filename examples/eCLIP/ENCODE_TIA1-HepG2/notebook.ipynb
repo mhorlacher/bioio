{
 "cells": [
  {
   "cell_type": "code",
   "execution_count": null,
   "metadata": {},
   "outputs": [],
   "source": [
    "import bioio\n",
    "import tensorflow as tf"
   ]
  },
  {
   "cell_type": "code",
   "execution_count": null,
   "metadata": {},
   "outputs": [],
   "source": [
    "dataset = bioio.load_biospec('biospec.yml')\n",
    "dataset"
   ]
  },
  {
   "cell_type": "code",
   "execution_count": null,
   "metadata": {},
   "outputs": [],
   "source": [
    "x = next(iter(dataset))\n",
    "x"
   ]
  },
  {
   "cell_type": "code",
   "execution_count": null,
   "metadata": {},
   "outputs": [],
   "source": [
    "bioio.tf.dataset_to_tfrecord(dataset, 'test.tfrecord', encoding='bytes')"
   ]
  },
  {
   "cell_type": "code",
   "execution_count": null,
   "metadata": {},
   "outputs": [],
   "source": [
    "tf.sparse.from_dense(x['outputs']['SomeTask']['total'])"
   ]
  },
  {
   "cell_type": "code",
   "execution_count": null,
   "metadata": {},
   "outputs": [],
   "source": [
    "import tensorflow_datasets as tfds"
   ]
  },
  {
   "cell_type": "code",
   "execution_count": null,
   "metadata": {},
   "outputs": [],
   "source": [
    "tfds.dataset_builders.store_as_tfds_dataset(name='ENCODE_TIA1-HepG2', version='0.0.1', split_datasets = {'train': dataset}, features=features, data_dir='test_tfds')"
   ]
  },
  {
   "cell_type": "code",
   "execution_count": null,
   "metadata": {},
   "outputs": [],
   "source": [
    "tfds.dataset_builders.TfDataBuilder(name='ENCODE_TIA1-HepG2', version='0.0.1', split_datasets = {'train': dataset}, data_dir='test_tfds')"
   ]
  },
  {
   "cell_type": "code",
   "execution_count": null,
   "metadata": {},
   "outputs": [],
   "source": []
  },
  {
   "cell_type": "code",
   "execution_count": null,
   "metadata": {},
   "outputs": [],
   "source": [
    "dataset = bioio.tf.load_tfrecord('test.tfrecord')\n",
    "print(dataset)\n",
    "\n",
    "x = next(iter(dataset))\n",
    "x\n",
    "\n",
    "# def to_sparse_if_dense(x):\n",
    "#     if isinstance(x, tf.SparseTensor):\n",
    "#         return tf.sparse.to_dense(x)\n",
    "#     else:\n",
    "#         return x\n",
    "\n",
    "# dataset = dataset.map(lambda x: tf.nest.map_structure(to_sparse_if_dense, x))\n",
    "# print(dataset)\n",
    "\n",
    "# x = next(iter(dataset))\n",
    "# x"
   ]
  },
  {
   "cell_type": "code",
   "execution_count": null,
   "metadata": {},
   "outputs": [],
   "source": [
    "tf.sparse.to_dense(x['outputs']['SomeTask']['total'])"
   ]
  },
  {
   "cell_type": "code",
   "execution_count": null,
   "metadata": {},
   "outputs": [],
   "source": []
  },
  {
   "cell_type": "code",
   "execution_count": null,
   "metadata": {},
   "outputs": [],
   "source": [
    "import tensorflow as tf\n",
    "import tensorflow_datasets as tfds\n",
    "\n",
    "from tensorflow_datasets.core.proto import feature_pb2\n",
    "from tensorflow_datasets.core.features import feature as feature_lib\n",
    "\n",
    "class SparseTensor(tfds.features.FeatureConnector):\n",
    "    def __init__(self, dtype, **kwargs):\n",
    "        self._dtype = dtype\n",
    "        self._doc = tfds.features.Documentation()\n",
    "\n",
    "        self._st_feature_dict = tfds.features.FeaturesDict(\n",
    "            {\n",
    "                'indices': tfds.features.Tensor(shape=(None, None), dtype=tf.int64, encoding='bytes'),\n",
    "                'values': tfds.features.Tensor(shape=(None, ), dtype=self._dtype),\n",
    "                'dense_shape': tfds.features.Tensor(shape=(None, ), dtype=tf.int64),\n",
    "            },\n",
    "        )\n",
    "\n",
    "    def _cast_to_numpy(self, x):\n",
    "        if isinstance(x, tf.Tensor):\n",
    "            x = x.numpy()\n",
    "        return x\n",
    "\n",
    "    def _sparse_to_dict(self, example_data):\n",
    "        return {\n",
    "            'indices': self._cast_to_numpy(example_data.indices),\n",
    "            'values': self._cast_to_numpy(example_data.values),\n",
    "            'dense_shape': self._cast_to_numpy(example_data.dense_shape)\n",
    "        }\n",
    "\n",
    "    def _dict_to_sparse(self, example_data_dict):\n",
    "        return tf.SparseTensor(\n",
    "            indices = example_data_dict['indices'],\n",
    "            values = example_data_dict['values'],\n",
    "            dense_shape = example_data_dict['dense_shape'],\n",
    "        )\n",
    "\n",
    "    def get_serialized_info(self):\n",
    "        return self._st_feature_dict.get_serialized_info()\n",
    "\n",
    "    def get_tensor_info(self):\n",
    "        return None\n",
    "    \n",
    "    # def to_json_content(self):\n",
    "    #     return self._st_feature_dict.to_json_content()\n",
    "\n",
    "    def to_json_content(self) -> feature_pb2.TensorFeature:\n",
    "        return feature_pb2.TensorFeature(\n",
    "            dtype=feature_lib.dtype_to_str(self._dtype),\n",
    "            # encoding=self._encoding.value,\n",
    "        )\n",
    "\n",
    "    @classmethod\n",
    "    def from_json_content(self, value):\n",
    "        return SparseTensor(dtype=feature_lib.dtype_from_str(value.dtype))\n",
    "\n",
    "    def encode_example(self, example: tf.SparseTensor):\n",
    "        example_as_dict = self._sparse_to_dict(example)\n",
    "        return self._st_feature_dict.encode_example(example_as_dict)\n",
    "\n",
    "    def decode_example(self, encoded_example: bytes):\n",
    "        example_as_dict = self._st_feature_dict.decode_example(encoded_example)\n",
    "        return self._dict_to_sparse(example_as_dict)\n",
    "\n",
    "stf = SparseTensor(tf.float32)\n",
    "stf.to_json()"
   ]
  },
  {
   "cell_type": "code",
   "execution_count": null,
   "metadata": {},
   "outputs": [],
   "source": [
    "# %%\n",
    "def features_to_json_file(features, filepath, indent=2):\n",
    "    with open(filepath, 'w') as json_file:\n",
    "        print(json.dumps(features.to_json(), indent=indent), file=json_file)\n",
    "\n",
    "# %%\n",
    "def features_from_json_file(filepath):\n",
    "    with open(filepath) as json_file:\n",
    "        features = tfds.features.FeaturesDict.from_json(json.load(json_file))\n",
    "    return features\n",
    "\n",
    "st_feature = tfds.features.FeaturesDict({\n",
    "    'example': SparseTensor(dtype=tf.int32)\n",
    "})\n",
    "\n",
    "tfds.features.FeaturesDict.from_json(st_feature.to_json())"
   ]
  },
  {
   "cell_type": "code",
   "execution_count": null,
   "metadata": {},
   "outputs": [],
   "source": []
  },
  {
   "cell_type": "code",
   "execution_count": null,
   "metadata": {},
   "outputs": [],
   "source": []
  },
  {
   "cell_type": "code",
   "execution_count": 1,
   "metadata": {},
   "outputs": [
    {
     "name": "stderr",
     "output_type": "stream",
     "text": [
      "/home/marc/.miniconda/envs/bioio/lib/python3.10/site-packages/tqdm/auto.py:21: TqdmWarning: IProgress not found. Please update jupyter and ipywidgets. See https://ipywidgets.readthedocs.io/en/stable/user_install.html\n",
      "  from .autonotebook import tqdm as notebook_tqdm\n"
     ]
    }
   ],
   "source": [
    "import bioio\n",
    "import tensorflow as tf"
   ]
  },
  {
   "cell_type": "code",
   "execution_count": 2,
   "metadata": {},
   "outputs": [
    {
     "data": {
      "text/plain": [
       "<_MapDataset element_spec={'x': TensorSpec(shape=(None,), dtype=tf.float32, name=None)}>"
      ]
     },
     "execution_count": 2,
     "metadata": {},
     "output_type": "execute_result"
    }
   ],
   "source": [
    "dataset = bioio.tf.dataset_from_iterable(bioio.dataspec.sources.Bed('peaks/peaks.crosslink.slop-200b.bed'))\n",
    "dataset = dataset.map(bioio.dataspec.transforms.StrandedBigWig(bigwig_plus = 'bigWig/total/counts.pos.bw', bigwig_minus = 'bigWig/total/counts.neg.bw'))\n",
    "dataset = dataset.map(lambda x: {'x': x})\n",
    "dataset"
   ]
  },
  {
   "cell_type": "code",
   "execution_count": 3,
   "metadata": {},
   "outputs": [
    {
     "data": {
      "text/plain": [
       "FeaturesDict({\n",
       "    'x': Tensor(shape=(None,), dtype=float32),\n",
       "})"
      ]
     },
     "execution_count": 3,
     "metadata": {},
     "output_type": "execute_result"
    }
   ],
   "source": [
    "bioio.tf.dataset_to_features(dataset)"
   ]
  },
  {
   "cell_type": "code",
   "execution_count": null,
   "metadata": {},
   "outputs": [],
   "source": [
    "for x in dataset.take(200):\n",
    "    pass"
   ]
  },
  {
   "cell_type": "code",
   "execution_count": null,
   "metadata": {},
   "outputs": [],
   "source": [
    "bioio.tf.dataset_to_tfrecord(dataset.take(200), 'test.tfrecord')"
   ]
  },
  {
   "cell_type": "code",
   "execution_count": null,
   "metadata": {},
   "outputs": [],
   "source": []
  },
  {
   "cell_type": "code",
   "execution_count": 5,
   "metadata": {},
   "outputs": [
    {
     "data": {
      "text/plain": [
       "<tf.Tensor: shape=(), dtype=int32, numpy=1>"
      ]
     },
     "execution_count": 5,
     "metadata": {},
     "output_type": "execute_result"
    }
   ],
   "source": [
    "ds = tf.data.TFRecordDataset.from_tensor_slices([1,2,3,3,4,5])\n",
    "next(iter(ds))"
   ]
  },
  {
   "cell_type": "code",
   "execution_count": 7,
   "metadata": {},
   "outputs": [
    {
     "data": {
      "text/plain": [
       "<tf.Tensor: shape=(), dtype=int32, numpy=3>"
      ]
     },
     "execution_count": 7,
     "metadata": {},
     "output_type": "execute_result"
    }
   ],
   "source": [
    "ds_times_two = ds.map(lambda x: x*2)\n",
    "ds_times_three = ds.map(lambda x: x*3, num_parallel_calls=4)\n",
    "next(iter(ds_times_three))"
   ]
  },
  {
   "cell_type": "code",
   "execution_count": 9,
   "metadata": {},
   "outputs": [
    {
     "data": {
      "text/plain": [
       "(<tf.Tensor: shape=(), dtype=int32, numpy=2>,\n",
       " <tf.Tensor: shape=(), dtype=int32, numpy=3>)"
      ]
     },
     "execution_count": 9,
     "metadata": {},
     "output_type": "execute_result"
    }
   ],
   "source": [
    "ds_both = tf.data.Dataset.zip((ds_times_two, ds_times_three))\n",
    "next(iter(ds_both))"
   ]
  }
 ],
 "metadata": {
  "kernelspec": {
   "display_name": "bioio",
   "language": "python",
   "name": "python3"
  },
  "language_info": {
   "codemirror_mode": {
    "name": "ipython",
    "version": 3
   },
   "file_extension": ".py",
   "mimetype": "text/x-python",
   "name": "python",
   "nbconvert_exporter": "python",
   "pygments_lexer": "ipython3",
   "version": "3.10.11"
  },
  "orig_nbformat": 4
 },
 "nbformat": 4,
 "nbformat_minor": 2
}
