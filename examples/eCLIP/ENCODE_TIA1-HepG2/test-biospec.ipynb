{
 "cells": [
  {
   "cell_type": "code",
   "execution_count": 1,
   "metadata": {},
   "outputs": [
    {
     "name": "stderr",
     "output_type": "stream",
     "text": [
      "/home/marc/miniconda3/envs/bioflow/lib/python3.10/site-packages/tqdm/auto.py:22: TqdmWarning: IProgress not found. Please update jupyter and ipywidgets. See https://ipywidgets.readthedocs.io/en/stable/user_install.html\n",
      "  from .autonotebook import tqdm as notebook_tqdm\n"
     ]
    },
    {
     "name": "stdout",
     "output_type": "stream",
     "text": [
      "WARNING:tensorflow:From /home/marc/miniconda3/envs/bioflow/lib/python3.10/site-packages/tensorflow/python/autograph/pyct/static_analysis/liveness.py:83: Analyzer.lamba_check (from tensorflow.python.autograph.pyct.static_analysis.liveness) is deprecated and will be removed after 2023-09-23.\n",
      "Instructions for updating:\n",
      "Lambda fuctions will be no more assumed to be used in the statement where they are used, or at least in the same block. https://github.com/tensorflow/tensorflow/issues/56089\n",
      "dict_keys(['inputs', 'outputs'])\n",
      "dict_keys(['SomeTask'])\n"
     ]
    }
   ],
   "source": [
    "from bioflow.io import load_biospec\n",
    "\n",
    "dataset = load_biospec('biospec.yml')\n",
    "dataset\n",
    "\n",
    "for example in dataset.take(100):\n",
    "    _ = example\n",
    "\n",
    "x = next(iter(dataset))\n",
    "print(x.keys())\n",
    "print(x['outputs'].keys())\n",
    "# print(x)"
   ]
  },
  {
   "cell_type": "code",
   "execution_count": 2,
   "metadata": {},
   "outputs": [
    {
     "name": "stdout",
     "output_type": "stream",
     "text": [
      "{'inputs': {'sequence': TensorSpec(shape=(None, 4), dtype=tf.int8, name=None)}, 'outputs': {'SomeTask': {'total': TensorSpec(shape=(None,), dtype=tf.float32, name=None)}}}\n"
     ]
    }
   ],
   "source": [
    "print(dataset.element_spec)"
   ]
  },
  {
   "cell_type": "code",
   "execution_count": 3,
   "metadata": {},
   "outputs": [
    {
     "name": "stderr",
     "output_type": "stream",
     "text": [
      "WARNING:absl:You use TensorFlow DType <dtype: 'int8'> in tfds.features This will soon be deprecated in favor of NumPy DTypes. In the meantime it was converted to int8.\n",
      "WARNING:absl:You use TensorFlow DType <dtype: 'float32'> in tfds.features This will soon be deprecated in favor of NumPy DTypes. In the meantime it was converted to float32.\n"
     ]
    },
    {
     "data": {
      "text/plain": [
       "FeaturesDict({\n",
       "    'inputs': FeaturesDict({\n",
       "        'sequence': Tensor(shape=(None, 4), dtype=int8),\n",
       "    }),\n",
       "    'outputs': FeaturesDict({\n",
       "        'SomeTask': FeaturesDict({\n",
       "            'total': Tensor(shape=(None,), dtype=float32),\n",
       "        }),\n",
       "    }),\n",
       "})"
      ]
     },
     "execution_count": 3,
     "metadata": {},
     "output_type": "execute_result"
    }
   ],
   "source": [
    "from bioflow.io.dataset_ops import dataset_to_tensor_features\n",
    "\n",
    "features = dataset_to_tensor_features(dataset, encoding='zlib')\n",
    "features"
   ]
  },
  {
   "cell_type": "code",
   "execution_count": null,
   "metadata": {},
   "outputs": [],
   "source": [
    "dataset.element_spec"
   ]
  },
  {
   "cell_type": "code",
   "execution_count": null,
   "metadata": {},
   "outputs": [],
   "source": [
    "import tensorflow as tf\n",
    "\n",
    "tensor = tf.constant([1,2,3])\n",
    "tensor.set_shape((None, ))"
   ]
  },
  {
   "cell_type": "code",
   "execution_count": null,
   "metadata": {},
   "outputs": [],
   "source": [
    "tensor"
   ]
  },
  {
   "cell_type": "code",
   "execution_count": null,
   "metadata": {},
   "outputs": [],
   "source": [
    "dataset"
   ]
  },
  {
   "cell_type": "code",
   "execution_count": null,
   "metadata": {},
   "outputs": [],
   "source": []
  },
  {
   "cell_type": "code",
   "execution_count": null,
   "metadata": {},
   "outputs": [],
   "source": [
    "# data = load_biospec('biospec.yml')\n",
    "# data"
   ]
  },
  {
   "cell_type": "code",
   "execution_count": null,
   "metadata": {},
   "outputs": [],
   "source": [
    "for example in data.take(4):\n",
    "    print(example)"
   ]
  }
 ],
 "metadata": {
  "interpreter": {
   "hash": "921f9b6c09b878a5d0bda5ea1d77d940e10ba56e9ae7f606fddb109a1ea3e17e"
  },
  "kernelspec": {
   "display_name": "Python 3.10.8 ('bioflow')",
   "language": "python",
   "name": "python3"
  },
  "language_info": {
   "codemirror_mode": {
    "name": "ipython",
    "version": 3
   },
   "file_extension": ".py",
   "mimetype": "text/x-python",
   "name": "python",
   "nbconvert_exporter": "python",
   "pygments_lexer": "ipython3",
   "version": "3.10.8"
  },
  "orig_nbformat": 4
 },
 "nbformat": 4,
 "nbformat_minor": 2
}
