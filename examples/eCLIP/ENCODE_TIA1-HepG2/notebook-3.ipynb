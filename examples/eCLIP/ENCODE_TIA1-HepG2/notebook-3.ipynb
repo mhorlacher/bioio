{
 "cells": [
  {
   "cell_type": "code",
   "execution_count": 1,
   "metadata": {},
   "outputs": [
    {
     "name": "stderr",
     "output_type": "stream",
     "text": [
      "2023-02-01 11:42:26.208615: I tensorflow/core/platform/cpu_feature_guard.cc:193] This TensorFlow binary is optimized with oneAPI Deep Neural Network Library (oneDNN) to use the following CPU instructions in performance-critical operations:  AVX2 FMA\n",
      "To enable them in other operations, rebuild TensorFlow with the appropriate compiler flags.\n",
      "2023-02-01 11:42:26.698714: W tensorflow/compiler/xla/stream_executor/platform/default/dso_loader.cc:64] Could not load dynamic library 'libcudart.so.11.0'; dlerror: libcudart.so.11.0: cannot open shared object file: No such file or directory\n",
      "2023-02-01 11:42:26.698733: I tensorflow/compiler/xla/stream_executor/cuda/cudart_stub.cc:29] Ignore above cudart dlerror if you do not have a GPU set up on your machine.\n",
      "2023-02-01 11:42:28.412970: W tensorflow/compiler/xla/stream_executor/platform/default/dso_loader.cc:64] Could not load dynamic library 'libnvinfer.so.7'; dlerror: libnvinfer.so.7: cannot open shared object file: No such file or directory\n",
      "2023-02-01 11:42:28.413116: W tensorflow/compiler/xla/stream_executor/platform/default/dso_loader.cc:64] Could not load dynamic library 'libnvinfer_plugin.so.7'; dlerror: libnvinfer_plugin.so.7: cannot open shared object file: No such file or directory\n",
      "2023-02-01 11:42:28.413133: W tensorflow/compiler/tf2tensorrt/utils/py_utils.cc:38] TF-TRT Warning: Cannot dlopen some TensorRT libraries. If you would like to use Nvidia GPU with TensorRT, please make sure the missing libraries mentioned above are installed properly.\n",
      "/home/marc/miniconda3/envs/bioflow/lib/python3.10/site-packages/tqdm/auto.py:22: TqdmWarning: IProgress not found. Please update jupyter and ipywidgets. See https://ipywidgets.readthedocs.io/en/stable/user_install.html\n",
      "  from .autonotebook import tqdm as notebook_tqdm\n"
     ]
    }
   ],
   "source": [
    "import tensorflow as tf\n",
    "import tensorflow_datasets as tfds"
   ]
  },
  {
   "cell_type": "code",
   "execution_count": 37,
   "metadata": {},
   "outputs": [
    {
     "name": "stdout",
     "output_type": "stream",
     "text": [
      "(1024, 4)\n",
      "tf.Tensor(4096, shape=(), dtype=int32)\n"
     ]
    }
   ],
   "source": [
    "import random\n",
    "\n",
    "# tensor = tf.cast(tf.one_hot([0,1,2,3,0,0,0,0,0,0,0,0,0,0,0,0], depth=4), tf.int32)\n",
    "# tensor = tf.constant([[0,0,0,0]*20]*16)\n",
    "tensor = tf.cast(tf.one_hot(random.choices([0,1,2,3], k=1024), depth=4), tf.int32)\n",
    "print(tensor.shape)\n",
    "print(tf.size(tensor))"
   ]
  },
  {
   "cell_type": "code",
   "execution_count": null,
   "metadata": {},
   "outputs": [],
   "source": []
  },
  {
   "cell_type": "code",
   "execution_count": 38,
   "metadata": {},
   "outputs": [
    {
     "name": "stdout",
     "output_type": "stream",
     "text": [
      "(1024, 4)\n",
      "tf.Tensor(4096, shape=(), dtype=int32)\n"
     ]
    },
    {
     "data": {
      "text/plain": [
       "SparseTensor(indices=tf.Tensor(\n",
       "[[   0    0]\n",
       " [   1    3]\n",
       " [   2    2]\n",
       " ...\n",
       " [1021    0]\n",
       " [1022    3]\n",
       " [1023    0]], shape=(1024, 2), dtype=int64), values=tf.Tensor([1 1 1 ... 1 1 1], shape=(1024,), dtype=int32), dense_shape=tf.Tensor([1024    4], shape=(2,), dtype=int64))"
      ]
     },
     "execution_count": 38,
     "metadata": {},
     "output_type": "execute_result"
    }
   ],
   "source": [
    "sparse_tensor = tf.sparse.from_dense(tensor)\n",
    "print(sparse_tensor.shape)\n",
    "print(tf.size(sparse_tensor))\n",
    "sparse_tensor"
   ]
  },
  {
   "cell_type": "code",
   "execution_count": 15,
   "metadata": {},
   "outputs": [
    {
     "data": {
      "text/plain": [
       "<tf.Tensor: shape=(3,), dtype=string, numpy=\n",
       "array([b'\\x08\\t\\x12\\x06\\x12\\x00\\x12\\x02\\x08\\x02',\n",
       "       b'\\x08\\x03\\x12\\x02\\x12\\x00',\n",
       "       b'\\x08\\t\\x12\\x04\\x12\\x02\\x08\\x02\"\\x10\\x10\\x00\\x00\\x00\\x00\\x00\\x00\\x00P\\x00\\x00\\x00\\x00\\x00\\x00\\x00'],\n",
       "      dtype=object)>"
      ]
     },
     "execution_count": 15,
     "metadata": {},
     "output_type": "execute_result"
    }
   ],
   "source": [
    "tf.io.serialize_sparse(sparse_tensor)"
   ]
  },
  {
   "cell_type": "code",
   "execution_count": 8,
   "metadata": {},
   "outputs": [
    {
     "data": {
      "text/plain": [
       "True"
      ]
     },
     "execution_count": 8,
     "metadata": {},
     "output_type": "execute_result"
    }
   ],
   "source": [
    "isinstance(sparse_tensor, tf.SparseTensor)"
   ]
  },
  {
   "cell_type": "code",
   "execution_count": 18,
   "metadata": {},
   "outputs": [
    {
     "data": {
      "text/plain": [
       "{'a': 1, 'c': 3, 'b': 2}"
      ]
     },
     "execution_count": 18,
     "metadata": {},
     "output_type": "execute_result"
    }
   ],
   "source": [
    "d1 = {'a': 1, 'b': 2}\n",
    "d2 = {'a': 3, 'c': 3}\n",
    "\n",
    "d2 | d1"
   ]
  },
  {
   "cell_type": "code",
   "execution_count": 41,
   "metadata": {},
   "outputs": [
    {
     "data": {
      "text/plain": [
       "{'abc': SparseTensor(indices=tf.Tensor(\n",
       " [[ 0  0]\n",
       "  [ 1  1]\n",
       "  [ 2  2]\n",
       "  [ 3  3]\n",
       "  [ 4  0]\n",
       "  [ 5  0]\n",
       "  [ 6  0]\n",
       "  [ 7  0]\n",
       "  [ 8  0]\n",
       "  [ 9  0]\n",
       "  [10  0]\n",
       "  [11  0]\n",
       "  [12  0]\n",
       "  [13  0]\n",
       "  [14  0]\n",
       "  [15  0]], shape=(16, 2), dtype=int64), values=tf.Tensor([1 1 1 1 1 1 1 1 1 1 1 1 1 1 1 1], shape=(16,), dtype=int32), dense_shape=tf.Tensor([16  4], shape=(2,), dtype=int64))}"
      ]
     },
     "execution_count": 41,
     "metadata": {},
     "output_type": "execute_result"
    }
   ],
   "source": [
    "dataset = tf.data.Dataset.from_tensor_slices([tensor, tensor])\n",
    "dataset = dataset.map(lambda x: {'abc': tf.sparse.from_dense(x)})\n",
    "next(iter(dataset))"
   ]
  },
  {
   "cell_type": "code",
   "execution_count": 42,
   "metadata": {},
   "outputs": [
    {
     "data": {
      "text/plain": [
       "{'abc': SparseTensorSpec(TensorShape([16, 4]), tf.int32)}"
      ]
     },
     "execution_count": 42,
     "metadata": {},
     "output_type": "execute_result"
    }
   ],
   "source": [
    "dataset.element_spec"
   ]
  },
  {
   "cell_type": "code",
   "execution_count": 5,
   "metadata": {},
   "outputs": [],
   "source": [
    "def tensorspec_to_tensor(tensorspec):\n",
    "    return tfds.features.Tensor(shape=tensorspec.shape, dtype=tensorspec.dtype)\n",
    "\n",
    "def dataset_to_features(dataset):\n",
    "    return tfds.features.FeaturesDict(tf.nest.map_structure(tensorspec_to_tensor, dataset.element_spec))\n",
    "\n",
    "# dataset_to_features(dataset)"
   ]
  },
  {
   "cell_type": "code",
   "execution_count": 6,
   "metadata": {},
   "outputs": [],
   "source": [
    "# class SparseTensor()"
   ]
  },
  {
   "cell_type": "code",
   "execution_count": 49,
   "metadata": {},
   "outputs": [],
   "source": [
    "features_zlib = tfds.features.FeaturesDict({\n",
    "    'a': tfds.features.Tensor(shape=(1024, 4), dtype=tf.int32, encoding='zlib')\n",
    "})\n",
    "\n",
    "features_bytes = tfds.features.FeaturesDict({\n",
    "    'a': tfds.features.Tensor(shape=(1024, 4), dtype=tf.int32, encoding='bytes')\n",
    "})"
   ]
  },
  {
   "cell_type": "code",
   "execution_count": 50,
   "metadata": {},
   "outputs": [
    {
     "name": "stdout",
     "output_type": "stream",
     "text": [
      "761\n",
      "16407\n"
     ]
    }
   ],
   "source": [
    "serialized_tensor = features_zlib.serialize_example({'a': tensor.numpy()})\n",
    "print(len(serialized_tensor))\n",
    "# print(serialized_tensor)\n",
    "\n",
    "serialized_tensor = features_bytes.serialize_example({'a': tensor.numpy()})\n",
    "print(len(serialized_tensor))\n",
    "# print(serialized_tensor)"
   ]
  },
  {
   "cell_type": "code",
   "execution_count": 51,
   "metadata": {},
   "outputs": [
    {
     "name": "stdout",
     "output_type": "stream",
     "text": [
      "3\n",
      "20535\n"
     ]
    }
   ],
   "source": [
    "serialized_sparse_tensor = tf.io.serialize_sparse(sparse_tensor).numpy()\n",
    "print(len(serialized_sparse_tensor))\n",
    "print(sum([len(s) for s in serialized_sparse_tensor]))\n",
    "# print(serialized_sparse_tensor)"
   ]
  },
  {
   "cell_type": "code",
   "execution_count": 33,
   "metadata": {},
   "outputs": [
    {
     "data": {
      "text/plain": [
       "10"
      ]
     },
     "execution_count": 33,
     "metadata": {},
     "output_type": "execute_result"
    }
   ],
   "source": [
    "len(serialized_sparse_tensor[0].numpy())"
   ]
  },
  {
   "cell_type": "code",
   "execution_count": null,
   "metadata": {},
   "outputs": [],
   "source": []
  },
  {
   "cell_type": "code",
   "execution_count": null,
   "metadata": {},
   "outputs": [],
   "source": []
  },
  {
   "cell_type": "code",
   "execution_count": null,
   "metadata": {},
   "outputs": [],
   "source": []
  },
  {
   "cell_type": "code",
   "execution_count": 26,
   "metadata": {},
   "outputs": [
    {
     "ename": "AttributeError",
     "evalue": "'SparseTensor' object has no attribute 'numpy'",
     "output_type": "error",
     "traceback": [
      "\u001b[0;31m---------------------------------------------------------------------------\u001b[0m",
      "\u001b[0;31mAttributeError\u001b[0m                            Traceback (most recent call last)",
      "Cell \u001b[0;32mIn[26], line 1\u001b[0m\n\u001b[0;32m----> 1\u001b[0m features\u001b[38;5;241m.\u001b[39mserialize_example({\u001b[38;5;124m'\u001b[39m\u001b[38;5;124ma\u001b[39m\u001b[38;5;124m'\u001b[39m: \u001b[43msparse_tensor\u001b[49m\u001b[38;5;241;43m.\u001b[39;49m\u001b[43mnumpy\u001b[49m()})\n",
      "\u001b[0;31mAttributeError\u001b[0m: 'SparseTensor' object has no attribute 'numpy'"
     ]
    }
   ],
   "source": [
    "features.serialize_example({'a': sparse_tensor.numpy()})"
   ]
  },
  {
   "cell_type": "code",
   "execution_count": 16,
   "metadata": {},
   "outputs": [
    {
     "ename": "TypeError",
     "evalue": "SparseFeature.__new__() missing 4 required positional arguments: 'index_key', 'value_key', 'dtype', and 'size'",
     "output_type": "error",
     "traceback": [
      "\u001b[0;31m---------------------------------------------------------------------------\u001b[0m",
      "\u001b[0;31mTypeError\u001b[0m                                 Traceback (most recent call last)",
      "Cell \u001b[0;32mIn[16], line 1\u001b[0m\n\u001b[0;32m----> 1\u001b[0m \u001b[43mtf\u001b[49m\u001b[38;5;241;43m.\u001b[39;49m\u001b[43mio\u001b[49m\u001b[38;5;241;43m.\u001b[39;49m\u001b[43mSparseFeature\u001b[49m\u001b[43m(\u001b[49m\u001b[43m)\u001b[49m\n",
      "\u001b[0;31mTypeError\u001b[0m: SparseFeature.__new__() missing 4 required positional arguments: 'index_key', 'value_key', 'dtype', and 'size'"
     ]
    }
   ],
   "source": [
    "tf.io.SparseFeature()"
   ]
  },
  {
   "cell_type": "code",
   "execution_count": null,
   "metadata": {},
   "outputs": [],
   "source": [
    "tf.io.serialize_sparse()"
   ]
  },
  {
   "cell_type": "code",
   "execution_count": null,
   "metadata": {},
   "outputs": [],
   "source": []
  },
  {
   "cell_type": "code",
   "execution_count": null,
   "metadata": {},
   "outputs": [],
   "source": []
  },
  {
   "cell_type": "code",
   "execution_count": null,
   "metadata": {},
   "outputs": [],
   "source": []
  },
  {
   "cell_type": "code",
   "execution_count": 21,
   "metadata": {},
   "outputs": [],
   "source": [
    "import tensorflow as tf\n",
    "import tensorflow_datasets as tfds\n",
    "\n",
    "\n",
    "tesnor_feature = tfds.features.Tensor(shape=(None,), dtype=tf.int32)"
   ]
  },
  {
   "cell_type": "code",
   "execution_count": 22,
   "metadata": {},
   "outputs": [],
   "source": [
    "tensor = tf.constant([1,2,3], dtype=tf.int32)"
   ]
  },
  {
   "cell_type": "code",
   "execution_count": 29,
   "metadata": {},
   "outputs": [
    {
     "data": {
      "text/plain": [
       "array([1, 2, 3], dtype=int32)"
      ]
     },
     "execution_count": 29,
     "metadata": {},
     "output_type": "execute_result"
    }
   ],
   "source": [
    "tesnor_feature.decode_example(tensor.numpy())"
   ]
  },
  {
   "cell_type": "code",
   "execution_count": 25,
   "metadata": {},
   "outputs": [
    {
     "data": {
      "text/plain": [
       "array([1, 2, 3], dtype=int32)"
      ]
     },
     "execution_count": 25,
     "metadata": {},
     "output_type": "execute_result"
    }
   ],
   "source": [
    "tensor.numpy()"
   ]
  },
  {
   "cell_type": "code",
   "execution_count": null,
   "metadata": {},
   "outputs": [],
   "source": []
  },
  {
   "cell_type": "code",
   "execution_count": null,
   "metadata": {},
   "outputs": [],
   "source": []
  },
  {
   "cell_type": "code",
   "execution_count": 48,
   "metadata": {},
   "outputs": [
    {
     "name": "stdout",
     "output_type": "stream",
     "text": [
      "7\n",
      "7\n"
     ]
    }
   ],
   "source": [
    "def call_assert_output_type(type):\n",
    "    def decorator(func):\n",
    "        def wrapper(x):\n",
    "            print(x)\n",
    "            result = func(x)\n",
    "            # assert isinstance(result, type)\n",
    "            return result\n",
    "        return wrapper\n",
    "    return decorator\n",
    "\n",
    "@call_assert_output_type(type=int)\n",
    "def number(x):\n",
    "    return x\n",
    "print(number(7))"
   ]
  },
  {
   "cell_type": "code",
   "execution_count": 78,
   "metadata": {},
   "outputs": [
    {
     "ename": "TypeError",
     "evalue": "times_factor.<locals>.decorator.<locals>.wrapper() takes 1 positional argument but 2 were given",
     "output_type": "error",
     "traceback": [
      "\u001b[0;31m---------------------------------------------------------------------------\u001b[0m",
      "\u001b[0;31mTypeError\u001b[0m                                 Traceback (most recent call last)",
      "Cell \u001b[0;32mIn[78], line 26\u001b[0m\n\u001b[1;32m     23\u001b[0m         \u001b[38;5;28;01mreturn\u001b[39;00m number\n\u001b[1;32m     25\u001b[0m just_number_two \u001b[38;5;241m=\u001b[39m JustNumberDeco(\u001b[38;5;241m2\u001b[39m)\n\u001b[0;32m---> 26\u001b[0m \u001b[38;5;28mprint\u001b[39m(\u001b[43mjust_number_two\u001b[49m\u001b[43m(\u001b[49m\u001b[38;5;241;43m7\u001b[39;49m\u001b[43m)\u001b[49m)\n",
      "\u001b[0;31mTypeError\u001b[0m: times_factor.<locals>.decorator.<locals>.wrapper() takes 1 positional argument but 2 were given"
     ]
    }
   ],
   "source": [
    "def times_factor(factor):\n",
    "    def decorator(func):\n",
    "        def wrapper(x):\n",
    "            print(x)\n",
    "            result = func(x)*factor\n",
    "            return result\n",
    "        return wrapper\n",
    "    return decorator\n",
    "\n",
    "class JustNumber():\n",
    "    def __init__(self, factor):\n",
    "        self.factor = factor\n",
    "    \n",
    "    def __call__(self, number):\n",
    "        return number\n",
    "\n",
    "class JustNumberDeco():\n",
    "    def __init__(self, factor):\n",
    "        self.factor = factor\n",
    "    \n",
    "    @times_factor(factor=2)\n",
    "    def __call__(self, number):\n",
    "        return number\n",
    "\n",
    "just_number_two = JustNumberDeco(2)\n",
    "print(just_number_two(7))"
   ]
  },
  {
   "cell_type": "code",
   "execution_count": 66,
   "metadata": {},
   "outputs": [
    {
     "data": {
      "text/plain": [
       "<bound method JustNumber.__call__ of <__main__.JustNumber object at 0x7ff6744f4c70>>"
      ]
     },
     "execution_count": 66,
     "metadata": {},
     "output_type": "execute_result"
    }
   ],
   "source": [
    "just_number = JustNumber(3)\n",
    "f = just_number.__call__\n",
    "f"
   ]
  },
  {
   "cell_type": "code",
   "execution_count": 68,
   "metadata": {},
   "outputs": [
    {
     "data": {
      "text/plain": [
       "3"
      ]
     },
     "execution_count": 68,
     "metadata": {},
     "output_type": "execute_result"
    }
   ],
   "source": [
    "JustNumber.__call__(just_number, 3)"
   ]
  },
  {
   "cell_type": "code",
   "execution_count": 77,
   "metadata": {},
   "outputs": [
    {
     "data": {
      "text/plain": [
       "function"
      ]
     },
     "execution_count": 77,
     "metadata": {},
     "output_type": "execute_result"
    }
   ],
   "source": [
    "type(JustNumber.__call__)"
   ]
  },
  {
   "cell_type": "code",
   "execution_count": 75,
   "metadata": {},
   "outputs": [],
   "source": [
    "def print_hello_number(x):\n",
    "    print('hello', x)\n",
    "\n",
    "f = print_hello_number"
   ]
  },
  {
   "cell_type": "code",
   "execution_count": 76,
   "metadata": {},
   "outputs": [
    {
     "name": "stdout",
     "output_type": "stream",
     "text": [
      "hello 7\n"
     ]
    }
   ],
   "source": [
    "type(f).__call__(f, 7)"
   ]
  },
  {
   "cell_type": "code",
   "execution_count": null,
   "metadata": {},
   "outputs": [],
   "source": [
    "def pyfunc_lambda_wrapper(func)"
   ]
  },
  {
   "cell_type": "code",
   "execution_count": null,
   "metadata": {},
   "outputs": [],
   "source": []
  },
  {
   "cell_type": "code",
   "execution_count": null,
   "metadata": {},
   "outputs": [],
   "source": []
  },
  {
   "cell_type": "code",
   "execution_count": 27,
   "metadata": {},
   "outputs": [],
   "source": [
    "def _dtype_to_tensor_spec(v):\n",
    "    return tf.TensorSpec(None, v) if isinstance(v, tf.dtypes.DType) else v\n",
    "\n",
    "def _tensor_spec_to_dtype(v):\n",
    "  return v.dtype if isinstance(v, tf.TensorSpec) else v\n",
    "\n",
    "def py_function_nest(func, inp, Tout, name=None):\n",
    "    def wrapped_func(*flat_inp):\n",
    "        reconstructed_inp = tf.nest.pack_sequence_as(inp, flat_inp, expand_composites=True)\n",
    "        out = func(*reconstructed_inp)\n",
    "        return tf.nest.flatten(out, expand_composites=True)\n",
    "\n",
    "    flat_Tout = tf.nest.flatten(Tout, expand_composites=True)\n",
    "    flat_out = tf.py_function(\n",
    "        func=wrapped_func, \n",
    "        inp=tf.nest.flatten(inp, expand_composites=True),\n",
    "        Tout=[_tensor_spec_to_dtype(v) for v in flat_Tout],\n",
    "        name=name)\n",
    "    spec_out = tf.nest.map_structure(_dtype_to_tensor_spec, Tout, expand_composites=True)\n",
    "    out = tf.nest.pack_sequence_as(spec_out, flat_out, expand_composites=True)\n",
    "    return out"
   ]
  },
  {
   "cell_type": "code",
   "execution_count": 85,
   "metadata": {},
   "outputs": [
    {
     "name": "stdout",
     "output_type": "stream",
     "text": [
      "tf.Tensor(1, shape=(), dtype=int32)\n"
     ]
    }
   ],
   "source": [
    "import tensorflow as tf\n",
    "\n",
    "def times_factor(factor):\n",
    "    def decorator(func):\n",
    "        def wrapper(x):\n",
    "            print(x)\n",
    "            result = func(x)*factor\n",
    "            # assert isinstance(result, type)\n",
    "            return result\n",
    "        return wrapper\n",
    "    return decorator\n",
    "\n",
    "# @times_factor(factor=2)\n",
    "def number(x, **kwargs):\n",
    "    return x\n",
    "\n",
    "# print(number(7))\n",
    "\n",
    "dataset = tf.data.Dataset.from_tensor_slices([1,2,3])\n",
    "dataset = dataset.map(lambda *args, **kwargs: py_function_nest(number, inp=[args, kwargs], Tout=tf.int32)) # number_msg\n",
    "print(next(iter(dataset)))"
   ]
  },
  {
   "cell_type": "code",
   "execution_count": 90,
   "metadata": {},
   "outputs": [
    {
     "name": "stderr",
     "output_type": "stream",
     "text": [
      "2023-02-01 11:30:11.066210: W tensorflow/core/framework/op_kernel.cc:1818] INVALID_ARGUMENT: TypeError: times_factor.<locals>.decorator.<locals>.wrapper() takes 1 positional argument but 3 were given\n",
      "Traceback (most recent call last):\n",
      "\n",
      "  File \"/home/marc/miniconda3/envs/bioflow/lib/python3.10/site-packages/tensorflow/python/ops/script_ops.py\", line 269, in __call__\n",
      "    return func(device, token, args)\n",
      "\n",
      "  File \"/home/marc/miniconda3/envs/bioflow/lib/python3.10/site-packages/tensorflow/python/ops/script_ops.py\", line 147, in __call__\n",
      "    outputs = self._call(device, args)\n",
      "\n",
      "  File \"/home/marc/miniconda3/envs/bioflow/lib/python3.10/site-packages/tensorflow/python/ops/script_ops.py\", line 154, in _call\n",
      "    ret = self._func(*args)\n",
      "\n",
      "  File \"/home/marc/miniconda3/envs/bioflow/lib/python3.10/site-packages/tensorflow/python/autograph/impl/api.py\", line 642, in wrapper\n",
      "    return func(*args, **kwargs)\n",
      "\n",
      "  File \"/tmp/__autograph_generated_filet7lif9a3.py\", line 17, in wrapped_func\n",
      "    out = ag__.converted_call(ag__.ld(func), tuple(ag__.ld(reconstructed_inp)), None, fscope_1)\n",
      "\n",
      "  File \"/home/marc/miniconda3/envs/bioflow/lib/python3.10/site-packages/tensorflow/python/autograph/impl/api.py\", line 335, in converted_call\n",
      "    return _call_unconverted(f, args, kwargs, options, False)\n",
      "\n",
      "  File \"/home/marc/miniconda3/envs/bioflow/lib/python3.10/site-packages/tensorflow/python/autograph/impl/api.py\", line 459, in _call_unconverted\n",
      "    return f(*args)\n",
      "\n",
      "TypeError: times_factor.<locals>.decorator.<locals>.wrapper() takes 1 positional argument but 3 were given\n",
      "\n",
      "\n",
      "2023-02-01 11:30:11.072499: W tensorflow/core/framework/op_kernel.cc:1818] INVALID_ARGUMENT: TypeError: times_factor.<locals>.decorator.<locals>.wrapper() takes 1 positional argument but 3 were given\n",
      "Traceback (most recent call last):\n",
      "\n",
      "  File \"/home/marc/miniconda3/envs/bioflow/lib/python3.10/site-packages/tensorflow/python/ops/script_ops.py\", line 269, in __call__\n",
      "    return func(device, token, args)\n",
      "\n",
      "  File \"/home/marc/miniconda3/envs/bioflow/lib/python3.10/site-packages/tensorflow/python/ops/script_ops.py\", line 147, in __call__\n",
      "    outputs = self._call(device, args)\n",
      "\n",
      "  File \"/home/marc/miniconda3/envs/bioflow/lib/python3.10/site-packages/tensorflow/python/ops/script_ops.py\", line 154, in _call\n",
      "    ret = self._func(*args)\n",
      "\n",
      "  File \"/home/marc/miniconda3/envs/bioflow/lib/python3.10/site-packages/tensorflow/python/autograph/impl/api.py\", line 642, in wrapper\n",
      "    return func(*args, **kwargs)\n",
      "\n",
      "  File \"/tmp/__autograph_generated_filet7lif9a3.py\", line 17, in wrapped_func\n",
      "    out = ag__.converted_call(ag__.ld(func), tuple(ag__.ld(reconstructed_inp)), None, fscope_1)\n",
      "\n",
      "  File \"/home/marc/miniconda3/envs/bioflow/lib/python3.10/site-packages/tensorflow/python/autograph/impl/api.py\", line 335, in converted_call\n",
      "    return _call_unconverted(f, args, kwargs, options, False)\n",
      "\n",
      "  File \"/home/marc/miniconda3/envs/bioflow/lib/python3.10/site-packages/tensorflow/python/autograph/impl/api.py\", line 459, in _call_unconverted\n",
      "    return f(*args)\n",
      "\n",
      "TypeError: times_factor.<locals>.decorator.<locals>.wrapper() takes 1 positional argument but 3 were given\n",
      "\n",
      "\n"
     ]
    },
    {
     "ename": "InvalidArgumentError",
     "evalue": "{{function_node __wrapped__IteratorGetNext_output_types_1_device_/job:localhost/replica:0/task:0/device:CPU:0}} TypeError: times_factor.<locals>.decorator.<locals>.wrapper() takes 1 positional argument but 3 were given\nTraceback (most recent call last):\n\n  File \"/home/marc/miniconda3/envs/bioflow/lib/python3.10/site-packages/tensorflow/python/ops/script_ops.py\", line 269, in __call__\n    return func(device, token, args)\n\n  File \"/home/marc/miniconda3/envs/bioflow/lib/python3.10/site-packages/tensorflow/python/ops/script_ops.py\", line 147, in __call__\n    outputs = self._call(device, args)\n\n  File \"/home/marc/miniconda3/envs/bioflow/lib/python3.10/site-packages/tensorflow/python/ops/script_ops.py\", line 154, in _call\n    ret = self._func(*args)\n\n  File \"/home/marc/miniconda3/envs/bioflow/lib/python3.10/site-packages/tensorflow/python/autograph/impl/api.py\", line 642, in wrapper\n    return func(*args, **kwargs)\n\n  File \"/tmp/__autograph_generated_filet7lif9a3.py\", line 17, in wrapped_func\n    out = ag__.converted_call(ag__.ld(func), tuple(ag__.ld(reconstructed_inp)), None, fscope_1)\n\n  File \"/home/marc/miniconda3/envs/bioflow/lib/python3.10/site-packages/tensorflow/python/autograph/impl/api.py\", line 335, in converted_call\n    return _call_unconverted(f, args, kwargs, options, False)\n\n  File \"/home/marc/miniconda3/envs/bioflow/lib/python3.10/site-packages/tensorflow/python/autograph/impl/api.py\", line 459, in _call_unconverted\n    return f(*args)\n\nTypeError: times_factor.<locals>.decorator.<locals>.wrapper() takes 1 positional argument but 3 were given\n\n\n\t [[{{node EagerPyFunc}}]] [Op:IteratorGetNext]",
     "output_type": "error",
     "traceback": [
      "\u001b[0;31m---------------------------------------------------------------------------\u001b[0m",
      "\u001b[0;31mInvalidArgumentError\u001b[0m                      Traceback (most recent call last)",
      "Cell \u001b[0;32mIn[90], line 13\u001b[0m\n\u001b[1;32m     11\u001b[0m dataset \u001b[38;5;241m=\u001b[39m tf\u001b[38;5;241m.\u001b[39mdata\u001b[38;5;241m.\u001b[39mDataset\u001b[38;5;241m.\u001b[39mfrom_tensor_slices([\u001b[38;5;241m1\u001b[39m,\u001b[38;5;241m2\u001b[39m,\u001b[38;5;241m3\u001b[39m])\n\u001b[1;32m     12\u001b[0m dataset \u001b[38;5;241m=\u001b[39m dataset\u001b[38;5;241m.\u001b[39mmap(\u001b[38;5;28;01mlambda\u001b[39;00m \u001b[38;5;241m*\u001b[39margs, \u001b[38;5;241m*\u001b[39m\u001b[38;5;241m*\u001b[39mkwargs: py_function_nest(number, inp\u001b[38;5;241m=\u001b[39m[args, kwargs], Tout\u001b[38;5;241m=\u001b[39mtf\u001b[38;5;241m.\u001b[39mint32)) \u001b[38;5;66;03m# number_msg\u001b[39;00m\n\u001b[0;32m---> 13\u001b[0m \u001b[38;5;28mprint\u001b[39m(\u001b[38;5;28;43mnext\u001b[39;49m\u001b[43m(\u001b[49m\u001b[38;5;28;43miter\u001b[39;49m\u001b[43m(\u001b[49m\u001b[43mdataset\u001b[49m\u001b[43m)\u001b[49m\u001b[43m)\u001b[49m)\n",
      "File \u001b[0;32m~/miniconda3/envs/bioflow/lib/python3.10/site-packages/tensorflow/python/data/ops/iterator_ops.py:787\u001b[0m, in \u001b[0;36mOwnedIterator.__next__\u001b[0;34m(self)\u001b[0m\n\u001b[1;32m    <a href='file:///home/marc/miniconda3/envs/bioflow/lib/python3.10/site-packages/tensorflow/python/data/ops/iterator_ops.py?line=784'>785</a>\u001b[0m \u001b[39mdef\u001b[39;00m \u001b[39m__next__\u001b[39m(\u001b[39mself\u001b[39m):\n\u001b[1;32m    <a href='file:///home/marc/miniconda3/envs/bioflow/lib/python3.10/site-packages/tensorflow/python/data/ops/iterator_ops.py?line=785'>786</a>\u001b[0m   \u001b[39mtry\u001b[39;00m:\n\u001b[0;32m--> <a href='file:///home/marc/miniconda3/envs/bioflow/lib/python3.10/site-packages/tensorflow/python/data/ops/iterator_ops.py?line=786'>787</a>\u001b[0m     \u001b[39mreturn\u001b[39;00m \u001b[39mself\u001b[39;49m\u001b[39m.\u001b[39;49m_next_internal()\n\u001b[1;32m    <a href='file:///home/marc/miniconda3/envs/bioflow/lib/python3.10/site-packages/tensorflow/python/data/ops/iterator_ops.py?line=787'>788</a>\u001b[0m   \u001b[39mexcept\u001b[39;00m errors\u001b[39m.\u001b[39mOutOfRangeError:\n\u001b[1;32m    <a href='file:///home/marc/miniconda3/envs/bioflow/lib/python3.10/site-packages/tensorflow/python/data/ops/iterator_ops.py?line=788'>789</a>\u001b[0m     \u001b[39mraise\u001b[39;00m \u001b[39mStopIteration\u001b[39;00m\n",
      "File \u001b[0;32m~/miniconda3/envs/bioflow/lib/python3.10/site-packages/tensorflow/python/data/ops/iterator_ops.py:770\u001b[0m, in \u001b[0;36mOwnedIterator._next_internal\u001b[0;34m(self)\u001b[0m\n\u001b[1;32m    <a href='file:///home/marc/miniconda3/envs/bioflow/lib/python3.10/site-packages/tensorflow/python/data/ops/iterator_ops.py?line=766'>767</a>\u001b[0m \u001b[39m# TODO(b/77291417): This runs in sync mode as iterators use an error status\u001b[39;00m\n\u001b[1;32m    <a href='file:///home/marc/miniconda3/envs/bioflow/lib/python3.10/site-packages/tensorflow/python/data/ops/iterator_ops.py?line=767'>768</a>\u001b[0m \u001b[39m# to communicate that there is no more data to iterate over.\u001b[39;00m\n\u001b[1;32m    <a href='file:///home/marc/miniconda3/envs/bioflow/lib/python3.10/site-packages/tensorflow/python/data/ops/iterator_ops.py?line=768'>769</a>\u001b[0m \u001b[39mwith\u001b[39;00m context\u001b[39m.\u001b[39mexecution_mode(context\u001b[39m.\u001b[39mSYNC):\n\u001b[0;32m--> <a href='file:///home/marc/miniconda3/envs/bioflow/lib/python3.10/site-packages/tensorflow/python/data/ops/iterator_ops.py?line=769'>770</a>\u001b[0m   ret \u001b[39m=\u001b[39m gen_dataset_ops\u001b[39m.\u001b[39;49miterator_get_next(\n\u001b[1;32m    <a href='file:///home/marc/miniconda3/envs/bioflow/lib/python3.10/site-packages/tensorflow/python/data/ops/iterator_ops.py?line=770'>771</a>\u001b[0m       \u001b[39mself\u001b[39;49m\u001b[39m.\u001b[39;49m_iterator_resource,\n\u001b[1;32m    <a href='file:///home/marc/miniconda3/envs/bioflow/lib/python3.10/site-packages/tensorflow/python/data/ops/iterator_ops.py?line=771'>772</a>\u001b[0m       output_types\u001b[39m=\u001b[39;49m\u001b[39mself\u001b[39;49m\u001b[39m.\u001b[39;49m_flat_output_types,\n\u001b[1;32m    <a href='file:///home/marc/miniconda3/envs/bioflow/lib/python3.10/site-packages/tensorflow/python/data/ops/iterator_ops.py?line=772'>773</a>\u001b[0m       output_shapes\u001b[39m=\u001b[39;49m\u001b[39mself\u001b[39;49m\u001b[39m.\u001b[39;49m_flat_output_shapes)\n\u001b[1;32m    <a href='file:///home/marc/miniconda3/envs/bioflow/lib/python3.10/site-packages/tensorflow/python/data/ops/iterator_ops.py?line=774'>775</a>\u001b[0m   \u001b[39mtry\u001b[39;00m:\n\u001b[1;32m    <a href='file:///home/marc/miniconda3/envs/bioflow/lib/python3.10/site-packages/tensorflow/python/data/ops/iterator_ops.py?line=775'>776</a>\u001b[0m     \u001b[39m# Fast path for the case `self._structure` is not a nested structure.\u001b[39;00m\n\u001b[1;32m    <a href='file:///home/marc/miniconda3/envs/bioflow/lib/python3.10/site-packages/tensorflow/python/data/ops/iterator_ops.py?line=776'>777</a>\u001b[0m     \u001b[39mreturn\u001b[39;00m \u001b[39mself\u001b[39m\u001b[39m.\u001b[39m_element_spec\u001b[39m.\u001b[39m_from_compatible_tensor_list(ret)  \u001b[39m# pylint: disable=protected-access\u001b[39;00m\n",
      "File \u001b[0;32m~/miniconda3/envs/bioflow/lib/python3.10/site-packages/tensorflow/python/ops/gen_dataset_ops.py:3017\u001b[0m, in \u001b[0;36miterator_get_next\u001b[0;34m(iterator, output_types, output_shapes, name)\u001b[0m\n\u001b[1;32m   <a href='file:///home/marc/miniconda3/envs/bioflow/lib/python3.10/site-packages/tensorflow/python/ops/gen_dataset_ops.py?line=3014'>3015</a>\u001b[0m   \u001b[39mreturn\u001b[39;00m _result\n\u001b[1;32m   <a href='file:///home/marc/miniconda3/envs/bioflow/lib/python3.10/site-packages/tensorflow/python/ops/gen_dataset_ops.py?line=3015'>3016</a>\u001b[0m \u001b[39mexcept\u001b[39;00m _core\u001b[39m.\u001b[39m_NotOkStatusException \u001b[39mas\u001b[39;00m e:\n\u001b[0;32m-> <a href='file:///home/marc/miniconda3/envs/bioflow/lib/python3.10/site-packages/tensorflow/python/ops/gen_dataset_ops.py?line=3016'>3017</a>\u001b[0m   _ops\u001b[39m.\u001b[39;49mraise_from_not_ok_status(e, name)\n\u001b[1;32m   <a href='file:///home/marc/miniconda3/envs/bioflow/lib/python3.10/site-packages/tensorflow/python/ops/gen_dataset_ops.py?line=3017'>3018</a>\u001b[0m \u001b[39mexcept\u001b[39;00m _core\u001b[39m.\u001b[39m_FallbackException:\n\u001b[1;32m   <a href='file:///home/marc/miniconda3/envs/bioflow/lib/python3.10/site-packages/tensorflow/python/ops/gen_dataset_ops.py?line=3018'>3019</a>\u001b[0m   \u001b[39mpass\u001b[39;00m\n",
      "File \u001b[0;32m~/miniconda3/envs/bioflow/lib/python3.10/site-packages/tensorflow/python/framework/ops.py:7215\u001b[0m, in \u001b[0;36mraise_from_not_ok_status\u001b[0;34m(e, name)\u001b[0m\n\u001b[1;32m   <a href='file:///home/marc/miniconda3/envs/bioflow/lib/python3.10/site-packages/tensorflow/python/framework/ops.py?line=7212'>7213</a>\u001b[0m \u001b[39mdef\u001b[39;00m \u001b[39mraise_from_not_ok_status\u001b[39m(e, name):\n\u001b[1;32m   <a href='file:///home/marc/miniconda3/envs/bioflow/lib/python3.10/site-packages/tensorflow/python/framework/ops.py?line=7213'>7214</a>\u001b[0m   e\u001b[39m.\u001b[39mmessage \u001b[39m+\u001b[39m\u001b[39m=\u001b[39m (\u001b[39m\"\u001b[39m\u001b[39m name: \u001b[39m\u001b[39m\"\u001b[39m \u001b[39m+\u001b[39m name \u001b[39mif\u001b[39;00m name \u001b[39mis\u001b[39;00m \u001b[39mnot\u001b[39;00m \u001b[39mNone\u001b[39;00m \u001b[39melse\u001b[39;00m \u001b[39m\"\u001b[39m\u001b[39m\"\u001b[39m)\n\u001b[0;32m-> <a href='file:///home/marc/miniconda3/envs/bioflow/lib/python3.10/site-packages/tensorflow/python/framework/ops.py?line=7214'>7215</a>\u001b[0m   \u001b[39mraise\u001b[39;00m core\u001b[39m.\u001b[39m_status_to_exception(e) \u001b[39mfrom\u001b[39;00m \u001b[39mNone\u001b[39m\n",
      "\u001b[0;31mInvalidArgumentError\u001b[0m: {{function_node __wrapped__IteratorGetNext_output_types_1_device_/job:localhost/replica:0/task:0/device:CPU:0}} TypeError: times_factor.<locals>.decorator.<locals>.wrapper() takes 1 positional argument but 3 were given\nTraceback (most recent call last):\n\n  File \"/home/marc/miniconda3/envs/bioflow/lib/python3.10/site-packages/tensorflow/python/ops/script_ops.py\", line 269, in __call__\n    return func(device, token, args)\n\n  File \"/home/marc/miniconda3/envs/bioflow/lib/python3.10/site-packages/tensorflow/python/ops/script_ops.py\", line 147, in __call__\n    outputs = self._call(device, args)\n\n  File \"/home/marc/miniconda3/envs/bioflow/lib/python3.10/site-packages/tensorflow/python/ops/script_ops.py\", line 154, in _call\n    ret = self._func(*args)\n\n  File \"/home/marc/miniconda3/envs/bioflow/lib/python3.10/site-packages/tensorflow/python/autograph/impl/api.py\", line 642, in wrapper\n    return func(*args, **kwargs)\n\n  File \"/tmp/__autograph_generated_filet7lif9a3.py\", line 17, in wrapped_func\n    out = ag__.converted_call(ag__.ld(func), tuple(ag__.ld(reconstructed_inp)), None, fscope_1)\n\n  File \"/home/marc/miniconda3/envs/bioflow/lib/python3.10/site-packages/tensorflow/python/autograph/impl/api.py\", line 335, in converted_call\n    return _call_unconverted(f, args, kwargs, options, False)\n\n  File \"/home/marc/miniconda3/envs/bioflow/lib/python3.10/site-packages/tensorflow/python/autograph/impl/api.py\", line 459, in _call_unconverted\n    return f(*args)\n\nTypeError: times_factor.<locals>.decorator.<locals>.wrapper() takes 1 positional argument but 3 were given\n\n\n\t [[{{node EagerPyFunc}}]] [Op:IteratorGetNext]"
     ]
    }
   ],
   "source": [
    "def times_factor(factor):\n",
    "    def decorator(func):\n",
    "        def wrapper(*args, **kwargs):\n",
    "            print(x)\n",
    "            result = func(x)*factor\n",
    "            # assert isinstance(result, type)\n",
    "            return result\n",
    "        return wrapper\n",
    "    return decorator\n",
    "\n",
    "class JustNumberDeco():\n",
    "    def __init__(self, factor):\n",
    "        self.factor = factor\n",
    "    \n",
    "    @times_factor(factor=2)\n",
    "    def __call__(self, number, *args, **kwargs):\n",
    "        return number\n",
    "\n",
    "number = JustNumberDeco(2)\n",
    "\n",
    "dataset = tf.data.Dataset.from_tensor_slices([1,2,3])\n",
    "dataset = dataset.map(lambda *args, **kwargs: py_function_nest(number, inp=[args, kwargs], Tout=tf.int32)) # number_msg\n",
    "print(next(iter(dataset)))"
   ]
  },
  {
   "cell_type": "code",
   "execution_count": null,
   "metadata": {},
   "outputs": [],
   "source": []
  },
  {
   "cell_type": "code",
   "execution_count": 19,
   "metadata": {},
   "outputs": [],
   "source": [
    "def _dtype_to_tensor_spec(v):\n",
    "    return tf.TensorSpec(None, v) if isinstance(v, tf.dtypes.DType) else v\n",
    "\n",
    "def _tensor_spec_to_dtype(v):\n",
    "  return v.dtype if isinstance(v, tf.TensorSpec) else v\n",
    "\n",
    "def py_function_nest(func, inp, Tout, name=None):\n",
    "    def wrapped_func(*flat_inp):\n",
    "        reconstructed_inp = tf.nest.pack_sequence_as(inp, flat_inp, expand_composites=True)\n",
    "        out = func(*reconstructed_inp)\n",
    "        return tf.nest.flatten(out, expand_composites=True)\n",
    "\n",
    "    flat_Tout = tf.nest.flatten(Tout, expand_composites=True)\n",
    "    flat_out = tf.py_function(\n",
    "        func=wrapped_func, \n",
    "        inp=tf.nest.flatten(inp, expand_composites=True),\n",
    "        Tout=[_tensor_spec_to_dtype(v) for v in flat_Tout],\n",
    "        name=name)\n",
    "    spec_out = tf.nest.map_structure(_dtype_to_tensor_spec, Tout, expand_composites=True)\n",
    "    out = tf.nest.pack_sequence_as(spec_out, flat_out, expand_composites=True)\n",
    "    return out\n",
    "\n",
    "def tensor_to_numpy(tensor):\n",
    "    return tensor.numpy()\n",
    "\n",
    "def decode_if_bytes(x):\n",
    "    if isinstance(x, bytes):\n",
    "        x = x.decode('UTF-8')\n",
    "    return x\n",
    "\n",
    "def pyfunc(output_types, numpy=True, decode_bytes=True, expand_kwargs=True):\n",
    "    def decorator(func):\n",
    "        def func_wrapper(inp):\n",
    "            if numpy:\n",
    "                inp = tf.nest.map_structure(tensor_to_numpy, inp)\n",
    "            if decode_bytes:\n",
    "                inp = tf.nest.map_structure(decode_if_bytes, inp)\n",
    "            \n",
    "            if expand_kwargs:\n",
    "                return func(**inp)\n",
    "            else:\n",
    "                return func(inp)\n",
    "        return lambda x: py_function_nest(func_wrapper, inp=[x], Tout=output_types)\n",
    "    return decorator"
   ]
  },
  {
   "cell_type": "code",
   "execution_count": 59,
   "metadata": {},
   "outputs": [
    {
     "name": "stdout",
     "output_type": "stream",
     "text": [
      "tf.Tensor(4, shape=(), dtype=int32)\n",
      "tf.Tensor(6, shape=(), dtype=int32)\n",
      "tf.Tensor(8, shape=(), dtype=int32)\n"
     ]
    }
   ],
   "source": [
    "def pyfunc(Tout):\n",
    "    def decorator(func):\n",
    "        def wrapper(*args, **kwargs):\n",
    "            result = py_function_nest(func, inp=[args, kwargs], Tout=Tout)\n",
    "            return result\n",
    "        return wrapper\n",
    "    return decorator\n",
    "\n",
    "class TimesNumber():\n",
    "    def __init__(self, factor):\n",
    "        self.factor = factor\n",
    "    \n",
    "    def multiply(self, a):\n",
    "        return a * self.factor\n",
    "\n",
    "    # def __call__(self, a, *args, **kwargs):\n",
    "    #     return py_function_nest(lambda x: self.multiply(x), inp=[a], Tout=tf.int32)\n",
    "\n",
    "    def __call__(self, kwargs):\n",
    "        return py_function_nest(lambda kwargs: self.multiply(**kwargs), inp=[kwargs], Tout=tf.int32)\n",
    "\n",
    "times_seven = TimesNumber(2)\n",
    "# print(times_seven(a=2))\n",
    "\n",
    "# @pyfunc(tf.int32)\n",
    "# def wrapper(*args, **kwargs):\n",
    "#     return number(*args, **kwargs)\n",
    "\n",
    "# print(wrapper(7))\n",
    "\n",
    "# def number(x, *args, **kwargs):\n",
    "#     return x\n",
    "\n",
    "# @pyfunc(Tout=tf.int32)\n",
    "# def number_pyfunc(x, *args, **kwargs):\n",
    "#     return x\n",
    "\n",
    "\n",
    "# dataset = tf.data.Dataset.from_tensor_slices([2,3,4])\n",
    "dataset = tf.data.Dataset.from_tensor_slices([2, 3, 4])\n",
    "dataset = dataset.map(lambda x: {'a': x})\n",
    "# # dataset = dataset.map(lambda *args, **kwargs: py_function_nest(number, inp=[args, kwargs], Tout=tf.int32)) # number_msg\n",
    "dataset = dataset.map(times_seven)\n",
    "for example in dataset:\n",
    "    print(example)"
   ]
  },
  {
   "cell_type": "code",
   "execution_count": null,
   "metadata": {},
   "outputs": [],
   "source": []
  },
  {
   "cell_type": "code",
   "execution_count": null,
   "metadata": {},
   "outputs": [],
   "source": []
  },
  {
   "cell_type": "code",
   "execution_count": null,
   "metadata": {},
   "outputs": [],
   "source": []
  },
  {
   "cell_type": "code",
   "execution_count": 24,
   "metadata": {},
   "outputs": [],
   "source": [
    "import tensorflow as tf\n",
    "\n",
    "d1 = tf.data.Dataset.from_tensor_slices([1, 2, 3])\n",
    "d1 = d1.map(lambda x: {'a': {'n1': x}, 'i': 'd1'})\n",
    "d1\n",
    "x1 = next(iter(d1))\n",
    "\n",
    "d2 = tf.data.Dataset.from_tensor_slices([7, 8, 9])\n",
    "d2 = d2.map(lambda x: {'a': {'n2': x}, 'i': 'd2'})\n",
    "d2\n",
    "x2 = next(iter(d2))"
   ]
  },
  {
   "cell_type": "code",
   "execution_count": 25,
   "metadata": {},
   "outputs": [
    {
     "data": {
      "text/plain": [
       "<ZipDataset element_spec=({'a': {'n1': TensorSpec(shape=(), dtype=tf.int32, name=None)}, 'i': TensorSpec(shape=(), dtype=tf.string, name=None)}, {'a': {'n2': TensorSpec(shape=(), dtype=tf.int32, name=None)}, 'i': TensorSpec(shape=(), dtype=tf.string, name=None)})>"
      ]
     },
     "execution_count": 25,
     "metadata": {},
     "output_type": "execute_result"
    }
   ],
   "source": [
    "dz = tf.data.Dataset.zip((d1, d2))\n",
    "dz"
   ]
  },
  {
   "cell_type": "code",
   "execution_count": 26,
   "metadata": {},
   "outputs": [],
   "source": [
    "xl = (x1, x2)"
   ]
  },
  {
   "cell_type": "code",
   "execution_count": 29,
   "metadata": {},
   "outputs": [
    {
     "data": {
      "text/plain": [
       "{'a': {'n2': <tf.Tensor: shape=(), dtype=int32, numpy=7>},\n",
       " 'i': <tf.Tensor: shape=(), dtype=string, numpy=b'd2'>}"
      ]
     },
     "execution_count": 29,
     "metadata": {},
     "output_type": "execute_result"
    }
   ],
   "source": [
    "def merge_dicts(dicts):\n",
    "    xm = dicts[0]\n",
    "    for x in dicts[1:]:\n",
    "        xm = {**xm, **x}\n",
    "    return xm\n",
    "\n",
    "merge_dicts(xl)"
   ]
  },
  {
   "cell_type": "code",
   "execution_count": 30,
   "metadata": {},
   "outputs": [
    {
     "data": {
      "text/plain": [
       "{'a': {'n2': <tf.Tensor: shape=(), dtype=int32, numpy=7>},\n",
       " 'i': <tf.Tensor: shape=(), dtype=string, numpy=b'd2'>}"
      ]
     },
     "execution_count": 30,
     "metadata": {},
     "output_type": "execute_result"
    }
   ],
   "source": [
    "dm = dz.map(lambda *dicts: merge_dicts(dicts))\n",
    "dm\n",
    "\n",
    "next(iter(dm))"
   ]
  },
  {
   "cell_type": "code",
   "execution_count": 31,
   "metadata": {},
   "outputs": [],
   "source": [
    "def merge_nested_dicts(d1, d2, _nest_level=0):\n",
    "    \"\"\"Merges two dicts. \n",
    "\n",
    "    Args:\n",
    "        d1 (dict): Dictionary 1. \n",
    "        d2 (dict): Dictionary 2. \n",
    "        _nest_level (int, optional): Private argument used for better error messages during recursion. Defaults to 0.\n",
    "\n",
    "    Raises:\n",
    "        ValueError: Raised if a duplicate atomic key is encountered at the same nesting level. \n",
    "\n",
    "    Returns:\n",
    "        dict: Merged dictionary. \n",
    "    \"\"\"\n",
    "\n",
    "    for key in d2:\n",
    "        if key not in d1:\n",
    "            d1[key] = d2[key]\n",
    "        elif isinstance(d1[key], dict) and isinstance(d2[key], dict):\n",
    "            d1[key] = merge_nested_dicts(d1[key], d2[key], _nest_level=_nest_level+1)\n",
    "    return d1\n",
    "\n",
    "def merge_dicts_2(dicts):\n",
    "    xm = dicts[0]\n",
    "    for x in dicts[1:]:\n",
    "        xm = merge_nested_dicts(xm, x)\n",
    "    return xm"
   ]
  },
  {
   "cell_type": "code",
   "execution_count": 32,
   "metadata": {},
   "outputs": [
    {
     "ename": "TypeError",
     "evalue": "in user code:\n\n    File \"/tmp/ipykernel_87154/1186788693.py\", line 1, in None  *\n        lambda *dicts: merge_nested_dicts(dicts)\n\n    TypeError: outer_factory.<locals>.inner_factory.<locals>.tf__merge_nested_dicts() missing 1 required positional argument: 'd2'\n",
     "output_type": "error",
     "traceback": [
      "\u001b[0;31m---------------------------------------------------------------------------\u001b[0m",
      "\u001b[0;31mTypeError\u001b[0m                                 Traceback (most recent call last)",
      "Cell \u001b[0;32mIn[32], line 1\u001b[0m\n\u001b[0;32m----> 1\u001b[0m dm \u001b[38;5;241m=\u001b[39m \u001b[43mdz\u001b[49m\u001b[38;5;241;43m.\u001b[39;49m\u001b[43mmap\u001b[49m\u001b[43m(\u001b[49m\u001b[38;5;28;43;01mlambda\u001b[39;49;00m\u001b[43m \u001b[49m\u001b[38;5;241;43m*\u001b[39;49m\u001b[43mdicts\u001b[49m\u001b[43m:\u001b[49m\u001b[43m \u001b[49m\u001b[43mmerge_nested_dicts\u001b[49m\u001b[43m(\u001b[49m\u001b[43mdicts\u001b[49m\u001b[43m)\u001b[49m\u001b[43m)\u001b[49m\n\u001b[1;32m      2\u001b[0m dm\n\u001b[1;32m      4\u001b[0m \u001b[38;5;28mnext\u001b[39m(\u001b[38;5;28miter\u001b[39m(dm))\n",
      "File \u001b[0;32m~/miniconda3/envs/bioflow/lib/python3.10/site-packages/tensorflow/python/data/ops/dataset_ops.py:2294\u001b[0m, in \u001b[0;36mDatasetV2.map\u001b[0;34m(self, map_func, num_parallel_calls, deterministic, name)\u001b[0m\n\u001b[1;32m   <a href='file:///home/marc/miniconda3/envs/bioflow/lib/python3.10/site-packages/tensorflow/python/data/ops/dataset_ops.py?line=2290'>2291</a>\u001b[0m   \u001b[39mif\u001b[39;00m deterministic \u001b[39mis\u001b[39;00m \u001b[39mnot\u001b[39;00m \u001b[39mNone\u001b[39;00m \u001b[39mand\u001b[39;00m \u001b[39mnot\u001b[39;00m DEBUG_MODE:\n\u001b[1;32m   <a href='file:///home/marc/miniconda3/envs/bioflow/lib/python3.10/site-packages/tensorflow/python/data/ops/dataset_ops.py?line=2291'>2292</a>\u001b[0m     warnings\u001b[39m.\u001b[39mwarn(\u001b[39m\"\u001b[39m\u001b[39mThe `deterministic` argument has no effect unless the \u001b[39m\u001b[39m\"\u001b[39m\n\u001b[1;32m   <a href='file:///home/marc/miniconda3/envs/bioflow/lib/python3.10/site-packages/tensorflow/python/data/ops/dataset_ops.py?line=2292'>2293</a>\u001b[0m                   \u001b[39m\"\u001b[39m\u001b[39m`num_parallel_calls` argument is specified.\u001b[39m\u001b[39m\"\u001b[39m)\n\u001b[0;32m-> <a href='file:///home/marc/miniconda3/envs/bioflow/lib/python3.10/site-packages/tensorflow/python/data/ops/dataset_ops.py?line=2293'>2294</a>\u001b[0m   \u001b[39mreturn\u001b[39;00m MapDataset(\u001b[39mself\u001b[39;49m, map_func, preserve_cardinality\u001b[39m=\u001b[39;49m\u001b[39mTrue\u001b[39;49;00m, name\u001b[39m=\u001b[39;49mname)\n\u001b[1;32m   <a href='file:///home/marc/miniconda3/envs/bioflow/lib/python3.10/site-packages/tensorflow/python/data/ops/dataset_ops.py?line=2294'>2295</a>\u001b[0m \u001b[39melse\u001b[39;00m:\n\u001b[1;32m   <a href='file:///home/marc/miniconda3/envs/bioflow/lib/python3.10/site-packages/tensorflow/python/data/ops/dataset_ops.py?line=2295'>2296</a>\u001b[0m   \u001b[39mreturn\u001b[39;00m ParallelMapDataset(\n\u001b[1;32m   <a href='file:///home/marc/miniconda3/envs/bioflow/lib/python3.10/site-packages/tensorflow/python/data/ops/dataset_ops.py?line=2296'>2297</a>\u001b[0m       \u001b[39mself\u001b[39m,\n\u001b[1;32m   <a href='file:///home/marc/miniconda3/envs/bioflow/lib/python3.10/site-packages/tensorflow/python/data/ops/dataset_ops.py?line=2297'>2298</a>\u001b[0m       map_func,\n\u001b[0;32m   (...)\u001b[0m\n\u001b[1;32m   <a href='file:///home/marc/miniconda3/envs/bioflow/lib/python3.10/site-packages/tensorflow/python/data/ops/dataset_ops.py?line=2300'>2301</a>\u001b[0m       preserve_cardinality\u001b[39m=\u001b[39m\u001b[39mTrue\u001b[39;00m,\n\u001b[1;32m   <a href='file:///home/marc/miniconda3/envs/bioflow/lib/python3.10/site-packages/tensorflow/python/data/ops/dataset_ops.py?line=2301'>2302</a>\u001b[0m       name\u001b[39m=\u001b[39mname)\n",
      "File \u001b[0;32m~/miniconda3/envs/bioflow/lib/python3.10/site-packages/tensorflow/python/data/ops/dataset_ops.py:5499\u001b[0m, in \u001b[0;36mMapDataset.__init__\u001b[0;34m(self, input_dataset, map_func, use_inter_op_parallelism, preserve_cardinality, use_legacy_function, name)\u001b[0m\n\u001b[1;32m   <a href='file:///home/marc/miniconda3/envs/bioflow/lib/python3.10/site-packages/tensorflow/python/data/ops/dataset_ops.py?line=5496'>5497</a>\u001b[0m \u001b[39mself\u001b[39m\u001b[39m.\u001b[39m_use_inter_op_parallelism \u001b[39m=\u001b[39m use_inter_op_parallelism\n\u001b[1;32m   <a href='file:///home/marc/miniconda3/envs/bioflow/lib/python3.10/site-packages/tensorflow/python/data/ops/dataset_ops.py?line=5497'>5498</a>\u001b[0m \u001b[39mself\u001b[39m\u001b[39m.\u001b[39m_preserve_cardinality \u001b[39m=\u001b[39m preserve_cardinality\n\u001b[0;32m-> <a href='file:///home/marc/miniconda3/envs/bioflow/lib/python3.10/site-packages/tensorflow/python/data/ops/dataset_ops.py?line=5498'>5499</a>\u001b[0m \u001b[39mself\u001b[39m\u001b[39m.\u001b[39m_map_func \u001b[39m=\u001b[39m structured_function\u001b[39m.\u001b[39;49mStructuredFunctionWrapper(\n\u001b[1;32m   <a href='file:///home/marc/miniconda3/envs/bioflow/lib/python3.10/site-packages/tensorflow/python/data/ops/dataset_ops.py?line=5499'>5500</a>\u001b[0m     map_func,\n\u001b[1;32m   <a href='file:///home/marc/miniconda3/envs/bioflow/lib/python3.10/site-packages/tensorflow/python/data/ops/dataset_ops.py?line=5500'>5501</a>\u001b[0m     \u001b[39mself\u001b[39;49m\u001b[39m.\u001b[39;49m_transformation_name(),\n\u001b[1;32m   <a href='file:///home/marc/miniconda3/envs/bioflow/lib/python3.10/site-packages/tensorflow/python/data/ops/dataset_ops.py?line=5501'>5502</a>\u001b[0m     dataset\u001b[39m=\u001b[39;49minput_dataset,\n\u001b[1;32m   <a href='file:///home/marc/miniconda3/envs/bioflow/lib/python3.10/site-packages/tensorflow/python/data/ops/dataset_ops.py?line=5502'>5503</a>\u001b[0m     use_legacy_function\u001b[39m=\u001b[39;49muse_legacy_function)\n\u001b[1;32m   <a href='file:///home/marc/miniconda3/envs/bioflow/lib/python3.10/site-packages/tensorflow/python/data/ops/dataset_ops.py?line=5503'>5504</a>\u001b[0m \u001b[39mself\u001b[39m\u001b[39m.\u001b[39m_name \u001b[39m=\u001b[39m name\n\u001b[1;32m   <a href='file:///home/marc/miniconda3/envs/bioflow/lib/python3.10/site-packages/tensorflow/python/data/ops/dataset_ops.py?line=5504'>5505</a>\u001b[0m variant_tensor \u001b[39m=\u001b[39m gen_dataset_ops\u001b[39m.\u001b[39mmap_dataset(\n\u001b[1;32m   <a href='file:///home/marc/miniconda3/envs/bioflow/lib/python3.10/site-packages/tensorflow/python/data/ops/dataset_ops.py?line=5505'>5506</a>\u001b[0m     input_dataset\u001b[39m.\u001b[39m_variant_tensor,  \u001b[39m# pylint: disable=protected-access\u001b[39;00m\n\u001b[1;32m   <a href='file:///home/marc/miniconda3/envs/bioflow/lib/python3.10/site-packages/tensorflow/python/data/ops/dataset_ops.py?line=5506'>5507</a>\u001b[0m     \u001b[39mself\u001b[39m\u001b[39m.\u001b[39m_map_func\u001b[39m.\u001b[39mfunction\u001b[39m.\u001b[39mcaptured_inputs,\n\u001b[0;32m   (...)\u001b[0m\n\u001b[1;32m   <a href='file:///home/marc/miniconda3/envs/bioflow/lib/python3.10/site-packages/tensorflow/python/data/ops/dataset_ops.py?line=5509'>5510</a>\u001b[0m     preserve_cardinality\u001b[39m=\u001b[39m\u001b[39mself\u001b[39m\u001b[39m.\u001b[39m_preserve_cardinality,\n\u001b[1;32m   <a href='file:///home/marc/miniconda3/envs/bioflow/lib/python3.10/site-packages/tensorflow/python/data/ops/dataset_ops.py?line=5510'>5511</a>\u001b[0m     \u001b[39m*\u001b[39m\u001b[39m*\u001b[39m\u001b[39mself\u001b[39m\u001b[39m.\u001b[39m_common_args)\n",
      "File \u001b[0;32m~/miniconda3/envs/bioflow/lib/python3.10/site-packages/tensorflow/python/data/ops/structured_function.py:263\u001b[0m, in \u001b[0;36mStructuredFunctionWrapper.__init__\u001b[0;34m(self, func, transformation_name, dataset, input_classes, input_shapes, input_types, input_structure, add_to_graph, use_legacy_function, defun_kwargs)\u001b[0m\n\u001b[1;32m    <a href='file:///home/marc/miniconda3/envs/bioflow/lib/python3.10/site-packages/tensorflow/python/data/ops/structured_function.py?line=255'>256</a>\u001b[0m       warnings\u001b[39m.\u001b[39mwarn(\n\u001b[1;32m    <a href='file:///home/marc/miniconda3/envs/bioflow/lib/python3.10/site-packages/tensorflow/python/data/ops/structured_function.py?line=256'>257</a>\u001b[0m           \u001b[39m\"\u001b[39m\u001b[39mEven though the `tf.config.experimental_run_functions_eagerly` \u001b[39m\u001b[39m\"\u001b[39m\n\u001b[1;32m    <a href='file:///home/marc/miniconda3/envs/bioflow/lib/python3.10/site-packages/tensorflow/python/data/ops/structured_function.py?line=257'>258</a>\u001b[0m           \u001b[39m\"\u001b[39m\u001b[39moption is set, this option does not apply to tf.data functions. \u001b[39m\u001b[39m\"\u001b[39m\n\u001b[1;32m    <a href='file:///home/marc/miniconda3/envs/bioflow/lib/python3.10/site-packages/tensorflow/python/data/ops/structured_function.py?line=258'>259</a>\u001b[0m           \u001b[39m\"\u001b[39m\u001b[39mTo force eager execution of tf.data functions, please use \u001b[39m\u001b[39m\"\u001b[39m\n\u001b[1;32m    <a href='file:///home/marc/miniconda3/envs/bioflow/lib/python3.10/site-packages/tensorflow/python/data/ops/structured_function.py?line=259'>260</a>\u001b[0m           \u001b[39m\"\u001b[39m\u001b[39m`tf.data.experimental.enable_debug_mode()`.\u001b[39m\u001b[39m\"\u001b[39m)\n\u001b[1;32m    <a href='file:///home/marc/miniconda3/envs/bioflow/lib/python3.10/site-packages/tensorflow/python/data/ops/structured_function.py?line=260'>261</a>\u001b[0m     fn_factory \u001b[39m=\u001b[39m trace_tf_function(defun_kwargs)\n\u001b[0;32m--> <a href='file:///home/marc/miniconda3/envs/bioflow/lib/python3.10/site-packages/tensorflow/python/data/ops/structured_function.py?line=262'>263</a>\u001b[0m \u001b[39mself\u001b[39m\u001b[39m.\u001b[39m_function \u001b[39m=\u001b[39m fn_factory()\n\u001b[1;32m    <a href='file:///home/marc/miniconda3/envs/bioflow/lib/python3.10/site-packages/tensorflow/python/data/ops/structured_function.py?line=263'>264</a>\u001b[0m \u001b[39m# There is no graph to add in eager mode.\u001b[39;00m\n\u001b[1;32m    <a href='file:///home/marc/miniconda3/envs/bioflow/lib/python3.10/site-packages/tensorflow/python/data/ops/structured_function.py?line=264'>265</a>\u001b[0m add_to_graph \u001b[39m&\u001b[39m\u001b[39m=\u001b[39m \u001b[39mnot\u001b[39;00m context\u001b[39m.\u001b[39mexecuting_eagerly()\n",
      "File \u001b[0;32m~/miniconda3/envs/bioflow/lib/python3.10/site-packages/tensorflow/python/eager/polymorphic_function/tracing_compiler.py:226\u001b[0m, in \u001b[0;36mTracingCompiler.get_concrete_function\u001b[0;34m(self, *args, **kwargs)\u001b[0m\n\u001b[1;32m    <a href='file:///home/marc/miniconda3/envs/bioflow/lib/python3.10/site-packages/tensorflow/python/eager/polymorphic_function/tracing_compiler.py?line=216'>217</a>\u001b[0m \u001b[39mdef\u001b[39;00m \u001b[39mget_concrete_function\u001b[39m(\u001b[39mself\u001b[39m, \u001b[39m*\u001b[39margs, \u001b[39m*\u001b[39m\u001b[39m*\u001b[39mkwargs):\n\u001b[1;32m    <a href='file:///home/marc/miniconda3/envs/bioflow/lib/python3.10/site-packages/tensorflow/python/eager/polymorphic_function/tracing_compiler.py?line=217'>218</a>\u001b[0m \u001b[39m  \u001b[39m\u001b[39m\"\"\"Returns a `ConcreteFunction` specialized to inputs and execution context.\u001b[39;00m\n\u001b[1;32m    <a href='file:///home/marc/miniconda3/envs/bioflow/lib/python3.10/site-packages/tensorflow/python/eager/polymorphic_function/tracing_compiler.py?line=218'>219</a>\u001b[0m \n\u001b[1;32m    <a href='file:///home/marc/miniconda3/envs/bioflow/lib/python3.10/site-packages/tensorflow/python/eager/polymorphic_function/tracing_compiler.py?line=219'>220</a>\u001b[0m \u001b[39m  Args:\u001b[39;00m\n\u001b[0;32m   (...)\u001b[0m\n\u001b[1;32m    <a href='file:///home/marc/miniconda3/envs/bioflow/lib/python3.10/site-packages/tensorflow/python/eager/polymorphic_function/tracing_compiler.py?line=223'>224</a>\u001b[0m \u001b[39m      `tf.Tensor` or `tf.TensorSpec`.\u001b[39;00m\n\u001b[1;32m    <a href='file:///home/marc/miniconda3/envs/bioflow/lib/python3.10/site-packages/tensorflow/python/eager/polymorphic_function/tracing_compiler.py?line=224'>225</a>\u001b[0m \u001b[39m  \"\"\"\u001b[39;00m\n\u001b[0;32m--> <a href='file:///home/marc/miniconda3/envs/bioflow/lib/python3.10/site-packages/tensorflow/python/eager/polymorphic_function/tracing_compiler.py?line=225'>226</a>\u001b[0m   concrete_function \u001b[39m=\u001b[39m \u001b[39mself\u001b[39;49m\u001b[39m.\u001b[39;49m_get_concrete_function_garbage_collected(\n\u001b[1;32m    <a href='file:///home/marc/miniconda3/envs/bioflow/lib/python3.10/site-packages/tensorflow/python/eager/polymorphic_function/tracing_compiler.py?line=226'>227</a>\u001b[0m       \u001b[39m*\u001b[39;49margs, \u001b[39m*\u001b[39;49m\u001b[39m*\u001b[39;49mkwargs)\n\u001b[1;32m    <a href='file:///home/marc/miniconda3/envs/bioflow/lib/python3.10/site-packages/tensorflow/python/eager/polymorphic_function/tracing_compiler.py?line=227'>228</a>\u001b[0m   concrete_function\u001b[39m.\u001b[39m_garbage_collector\u001b[39m.\u001b[39mrelease()  \u001b[39m# pylint: disable=protected-access\u001b[39;00m\n\u001b[1;32m    <a href='file:///home/marc/miniconda3/envs/bioflow/lib/python3.10/site-packages/tensorflow/python/eager/polymorphic_function/tracing_compiler.py?line=228'>229</a>\u001b[0m   \u001b[39mreturn\u001b[39;00m concrete_function\n",
      "File \u001b[0;32m~/miniconda3/envs/bioflow/lib/python3.10/site-packages/tensorflow/python/eager/polymorphic_function/tracing_compiler.py:192\u001b[0m, in \u001b[0;36mTracingCompiler._get_concrete_function_garbage_collected\u001b[0;34m(self, *args, **kwargs)\u001b[0m\n\u001b[1;32m    <a href='file:///home/marc/miniconda3/envs/bioflow/lib/python3.10/site-packages/tensorflow/python/eager/polymorphic_function/tracing_compiler.py?line=188'>189</a>\u001b[0m   \u001b[39mself\u001b[39m\u001b[39m.\u001b[39m_function_spec\u001b[39m.\u001b[39mvalidate_inputs_with_signature(args, kwargs)\n\u001b[1;32m    <a href='file:///home/marc/miniconda3/envs/bioflow/lib/python3.10/site-packages/tensorflow/python/eager/polymorphic_function/tracing_compiler.py?line=190'>191</a>\u001b[0m \u001b[39mwith\u001b[39;00m \u001b[39mself\u001b[39m\u001b[39m.\u001b[39m_lock:\n\u001b[0;32m--> <a href='file:///home/marc/miniconda3/envs/bioflow/lib/python3.10/site-packages/tensorflow/python/eager/polymorphic_function/tracing_compiler.py?line=191'>192</a>\u001b[0m   concrete_function, _ \u001b[39m=\u001b[39m \u001b[39mself\u001b[39;49m\u001b[39m.\u001b[39;49m_maybe_define_concrete_function(args, kwargs)\n\u001b[1;32m    <a href='file:///home/marc/miniconda3/envs/bioflow/lib/python3.10/site-packages/tensorflow/python/eager/polymorphic_function/tracing_compiler.py?line=192'>193</a>\u001b[0m   seen_names \u001b[39m=\u001b[39m \u001b[39mset\u001b[39m()\n\u001b[1;32m    <a href='file:///home/marc/miniconda3/envs/bioflow/lib/python3.10/site-packages/tensorflow/python/eager/polymorphic_function/tracing_compiler.py?line=193'>194</a>\u001b[0m   captured \u001b[39m=\u001b[39m object_identity\u001b[39m.\u001b[39mObjectIdentitySet(\n\u001b[1;32m    <a href='file:///home/marc/miniconda3/envs/bioflow/lib/python3.10/site-packages/tensorflow/python/eager/polymorphic_function/tracing_compiler.py?line=194'>195</a>\u001b[0m       concrete_function\u001b[39m.\u001b[39mgraph\u001b[39m.\u001b[39minternal_captures)\n",
      "File \u001b[0;32m~/miniconda3/envs/bioflow/lib/python3.10/site-packages/tensorflow/python/eager/polymorphic_function/tracing_compiler.py:157\u001b[0m, in \u001b[0;36mTracingCompiler._maybe_define_concrete_function\u001b[0;34m(self, args, kwargs)\u001b[0m\n\u001b[1;32m    <a href='file:///home/marc/miniconda3/envs/bioflow/lib/python3.10/site-packages/tensorflow/python/eager/polymorphic_function/tracing_compiler.py?line=153'>154</a>\u001b[0m   args \u001b[39m=\u001b[39m \u001b[39mself\u001b[39m\u001b[39m.\u001b[39minput_signature\n\u001b[1;32m    <a href='file:///home/marc/miniconda3/envs/bioflow/lib/python3.10/site-packages/tensorflow/python/eager/polymorphic_function/tracing_compiler.py?line=154'>155</a>\u001b[0m   kwargs \u001b[39m=\u001b[39m {}\n\u001b[0;32m--> <a href='file:///home/marc/miniconda3/envs/bioflow/lib/python3.10/site-packages/tensorflow/python/eager/polymorphic_function/tracing_compiler.py?line=156'>157</a>\u001b[0m \u001b[39mreturn\u001b[39;00m \u001b[39mself\u001b[39;49m\u001b[39m.\u001b[39;49m_maybe_define_function(args, kwargs)\n",
      "File \u001b[0;32m~/miniconda3/envs/bioflow/lib/python3.10/site-packages/tensorflow/python/eager/polymorphic_function/tracing_compiler.py:360\u001b[0m, in \u001b[0;36mTracingCompiler._maybe_define_function\u001b[0;34m(self, args, kwargs)\u001b[0m\n\u001b[1;32m    <a href='file:///home/marc/miniconda3/envs/bioflow/lib/python3.10/site-packages/tensorflow/python/eager/polymorphic_function/tracing_compiler.py?line=356'>357</a>\u001b[0m   \u001b[39m# Only get placeholders for arguments, not captures\u001b[39;00m\n\u001b[1;32m    <a href='file:///home/marc/miniconda3/envs/bioflow/lib/python3.10/site-packages/tensorflow/python/eager/polymorphic_function/tracing_compiler.py?line=357'>358</a>\u001b[0m   args, kwargs \u001b[39m=\u001b[39m generalized_func_key\u001b[39m.\u001b[39m_placeholder_value()  \u001b[39m# pylint: disable=protected-access\u001b[39;00m\n\u001b[0;32m--> <a href='file:///home/marc/miniconda3/envs/bioflow/lib/python3.10/site-packages/tensorflow/python/eager/polymorphic_function/tracing_compiler.py?line=359'>360</a>\u001b[0m concrete_function \u001b[39m=\u001b[39m \u001b[39mself\u001b[39;49m\u001b[39m.\u001b[39;49m_create_concrete_function(args, kwargs)\n\u001b[1;32m    <a href='file:///home/marc/miniconda3/envs/bioflow/lib/python3.10/site-packages/tensorflow/python/eager/polymorphic_function/tracing_compiler.py?line=361'>362</a>\u001b[0m graph_capture_container \u001b[39m=\u001b[39m concrete_function\u001b[39m.\u001b[39mgraph\u001b[39m.\u001b[39m_capture_func_lib  \u001b[39m# pylint: disable=protected-access\u001b[39;00m\n\u001b[1;32m    <a href='file:///home/marc/miniconda3/envs/bioflow/lib/python3.10/site-packages/tensorflow/python/eager/polymorphic_function/tracing_compiler.py?line=362'>363</a>\u001b[0m \u001b[39m# Maintain the list of all captures\u001b[39;00m\n",
      "File \u001b[0;32m~/miniconda3/envs/bioflow/lib/python3.10/site-packages/tensorflow/python/eager/polymorphic_function/tracing_compiler.py:284\u001b[0m, in \u001b[0;36mTracingCompiler._create_concrete_function\u001b[0;34m(self, args, kwargs)\u001b[0m\n\u001b[1;32m    <a href='file:///home/marc/miniconda3/envs/bioflow/lib/python3.10/site-packages/tensorflow/python/eager/polymorphic_function/tracing_compiler.py?line=278'>279</a>\u001b[0m missing_arg_names \u001b[39m=\u001b[39m [\n\u001b[1;32m    <a href='file:///home/marc/miniconda3/envs/bioflow/lib/python3.10/site-packages/tensorflow/python/eager/polymorphic_function/tracing_compiler.py?line=279'>280</a>\u001b[0m     \u001b[39m\"\u001b[39m\u001b[39m%s\u001b[39;00m\u001b[39m_\u001b[39m\u001b[39m%d\u001b[39;00m\u001b[39m\"\u001b[39m \u001b[39m%\u001b[39m (arg, i) \u001b[39mfor\u001b[39;00m i, arg \u001b[39min\u001b[39;00m \u001b[39menumerate\u001b[39m(missing_arg_names)\n\u001b[1;32m    <a href='file:///home/marc/miniconda3/envs/bioflow/lib/python3.10/site-packages/tensorflow/python/eager/polymorphic_function/tracing_compiler.py?line=280'>281</a>\u001b[0m ]\n\u001b[1;32m    <a href='file:///home/marc/miniconda3/envs/bioflow/lib/python3.10/site-packages/tensorflow/python/eager/polymorphic_function/tracing_compiler.py?line=281'>282</a>\u001b[0m arg_names \u001b[39m=\u001b[39m base_arg_names \u001b[39m+\u001b[39m missing_arg_names\n\u001b[1;32m    <a href='file:///home/marc/miniconda3/envs/bioflow/lib/python3.10/site-packages/tensorflow/python/eager/polymorphic_function/tracing_compiler.py?line=282'>283</a>\u001b[0m concrete_function \u001b[39m=\u001b[39m monomorphic_function\u001b[39m.\u001b[39mConcreteFunction(\n\u001b[0;32m--> <a href='file:///home/marc/miniconda3/envs/bioflow/lib/python3.10/site-packages/tensorflow/python/eager/polymorphic_function/tracing_compiler.py?line=283'>284</a>\u001b[0m     func_graph_module\u001b[39m.\u001b[39;49mfunc_graph_from_py_func(\n\u001b[1;32m    <a href='file:///home/marc/miniconda3/envs/bioflow/lib/python3.10/site-packages/tensorflow/python/eager/polymorphic_function/tracing_compiler.py?line=284'>285</a>\u001b[0m         \u001b[39mself\u001b[39;49m\u001b[39m.\u001b[39;49m_name,\n\u001b[1;32m    <a href='file:///home/marc/miniconda3/envs/bioflow/lib/python3.10/site-packages/tensorflow/python/eager/polymorphic_function/tracing_compiler.py?line=285'>286</a>\u001b[0m         \u001b[39mself\u001b[39;49m\u001b[39m.\u001b[39;49m_python_function,\n\u001b[1;32m    <a href='file:///home/marc/miniconda3/envs/bioflow/lib/python3.10/site-packages/tensorflow/python/eager/polymorphic_function/tracing_compiler.py?line=286'>287</a>\u001b[0m         args,\n\u001b[1;32m    <a href='file:///home/marc/miniconda3/envs/bioflow/lib/python3.10/site-packages/tensorflow/python/eager/polymorphic_function/tracing_compiler.py?line=287'>288</a>\u001b[0m         kwargs,\n\u001b[1;32m    <a href='file:///home/marc/miniconda3/envs/bioflow/lib/python3.10/site-packages/tensorflow/python/eager/polymorphic_function/tracing_compiler.py?line=288'>289</a>\u001b[0m         \u001b[39mNone\u001b[39;49;00m,\n\u001b[1;32m    <a href='file:///home/marc/miniconda3/envs/bioflow/lib/python3.10/site-packages/tensorflow/python/eager/polymorphic_function/tracing_compiler.py?line=289'>290</a>\u001b[0m         autograph\u001b[39m=\u001b[39;49m\u001b[39mself\u001b[39;49m\u001b[39m.\u001b[39;49m_autograph,\n\u001b[1;32m    <a href='file:///home/marc/miniconda3/envs/bioflow/lib/python3.10/site-packages/tensorflow/python/eager/polymorphic_function/tracing_compiler.py?line=290'>291</a>\u001b[0m         autograph_options\u001b[39m=\u001b[39;49m\u001b[39mself\u001b[39;49m\u001b[39m.\u001b[39;49m_autograph_options,\n\u001b[1;32m    <a href='file:///home/marc/miniconda3/envs/bioflow/lib/python3.10/site-packages/tensorflow/python/eager/polymorphic_function/tracing_compiler.py?line=291'>292</a>\u001b[0m         arg_names\u001b[39m=\u001b[39;49marg_names,\n\u001b[1;32m    <a href='file:///home/marc/miniconda3/envs/bioflow/lib/python3.10/site-packages/tensorflow/python/eager/polymorphic_function/tracing_compiler.py?line=292'>293</a>\u001b[0m         capture_by_value\u001b[39m=\u001b[39;49m\u001b[39mself\u001b[39;49m\u001b[39m.\u001b[39;49m_capture_by_value),\n\u001b[1;32m    <a href='file:///home/marc/miniconda3/envs/bioflow/lib/python3.10/site-packages/tensorflow/python/eager/polymorphic_function/tracing_compiler.py?line=293'>294</a>\u001b[0m     \u001b[39mself\u001b[39m\u001b[39m.\u001b[39m_function_attributes,\n\u001b[1;32m    <a href='file:///home/marc/miniconda3/envs/bioflow/lib/python3.10/site-packages/tensorflow/python/eager/polymorphic_function/tracing_compiler.py?line=294'>295</a>\u001b[0m     spec\u001b[39m=\u001b[39m\u001b[39mself\u001b[39m\u001b[39m.\u001b[39mfunction_spec,\n\u001b[1;32m    <a href='file:///home/marc/miniconda3/envs/bioflow/lib/python3.10/site-packages/tensorflow/python/eager/polymorphic_function/tracing_compiler.py?line=295'>296</a>\u001b[0m     \u001b[39m# Tell the ConcreteFunction to clean up its graph once it goes out of\u001b[39;00m\n\u001b[1;32m    <a href='file:///home/marc/miniconda3/envs/bioflow/lib/python3.10/site-packages/tensorflow/python/eager/polymorphic_function/tracing_compiler.py?line=296'>297</a>\u001b[0m     \u001b[39m# scope. This is not the default behavior since it gets used in some\u001b[39;00m\n\u001b[1;32m    <a href='file:///home/marc/miniconda3/envs/bioflow/lib/python3.10/site-packages/tensorflow/python/eager/polymorphic_function/tracing_compiler.py?line=297'>298</a>\u001b[0m     \u001b[39m# places (like Keras) where the FuncGraph lives longer than the\u001b[39;00m\n\u001b[1;32m    <a href='file:///home/marc/miniconda3/envs/bioflow/lib/python3.10/site-packages/tensorflow/python/eager/polymorphic_function/tracing_compiler.py?line=298'>299</a>\u001b[0m     \u001b[39m# ConcreteFunction.\u001b[39;00m\n\u001b[1;32m    <a href='file:///home/marc/miniconda3/envs/bioflow/lib/python3.10/site-packages/tensorflow/python/eager/polymorphic_function/tracing_compiler.py?line=299'>300</a>\u001b[0m     shared_func_graph\u001b[39m=\u001b[39m\u001b[39mFalse\u001b[39;00m)\n\u001b[1;32m    <a href='file:///home/marc/miniconda3/envs/bioflow/lib/python3.10/site-packages/tensorflow/python/eager/polymorphic_function/tracing_compiler.py?line=300'>301</a>\u001b[0m \u001b[39mreturn\u001b[39;00m concrete_function\n",
      "File \u001b[0;32m~/miniconda3/envs/bioflow/lib/python3.10/site-packages/tensorflow/python/framework/func_graph.py:1283\u001b[0m, in \u001b[0;36mfunc_graph_from_py_func\u001b[0;34m(name, python_func, args, kwargs, signature, func_graph, autograph, autograph_options, add_control_dependencies, arg_names, op_return_value, collections, capture_by_value, acd_record_initial_resource_uses)\u001b[0m\n\u001b[1;32m   <a href='file:///home/marc/miniconda3/envs/bioflow/lib/python3.10/site-packages/tensorflow/python/framework/func_graph.py?line=1279'>1280</a>\u001b[0m \u001b[39melse\u001b[39;00m:\n\u001b[1;32m   <a href='file:///home/marc/miniconda3/envs/bioflow/lib/python3.10/site-packages/tensorflow/python/framework/func_graph.py?line=1280'>1281</a>\u001b[0m   _, original_func \u001b[39m=\u001b[39m tf_decorator\u001b[39m.\u001b[39munwrap(python_func)\n\u001b[0;32m-> <a href='file:///home/marc/miniconda3/envs/bioflow/lib/python3.10/site-packages/tensorflow/python/framework/func_graph.py?line=1282'>1283</a>\u001b[0m func_outputs \u001b[39m=\u001b[39m python_func(\u001b[39m*\u001b[39;49mfunc_args, \u001b[39m*\u001b[39;49m\u001b[39m*\u001b[39;49mfunc_kwargs)\n\u001b[1;32m   <a href='file:///home/marc/miniconda3/envs/bioflow/lib/python3.10/site-packages/tensorflow/python/framework/func_graph.py?line=1284'>1285</a>\u001b[0m \u001b[39m# invariant: `func_outputs` contains only Tensors, CompositeTensors,\u001b[39;00m\n\u001b[1;32m   <a href='file:///home/marc/miniconda3/envs/bioflow/lib/python3.10/site-packages/tensorflow/python/framework/func_graph.py?line=1285'>1286</a>\u001b[0m \u001b[39m# TensorArrays and `None`s.\u001b[39;00m\n\u001b[1;32m   <a href='file:///home/marc/miniconda3/envs/bioflow/lib/python3.10/site-packages/tensorflow/python/framework/func_graph.py?line=1286'>1287</a>\u001b[0m func_outputs \u001b[39m=\u001b[39m variable_utils\u001b[39m.\u001b[39mconvert_variables_to_tensors(func_outputs)\n",
      "File \u001b[0;32m~/miniconda3/envs/bioflow/lib/python3.10/site-packages/tensorflow/python/data/ops/structured_function.py:240\u001b[0m, in \u001b[0;36mStructuredFunctionWrapper.__init__.<locals>.trace_tf_function.<locals>.wrapped_fn\u001b[0;34m(*args)\u001b[0m\n\u001b[1;32m    <a href='file:///home/marc/miniconda3/envs/bioflow/lib/python3.10/site-packages/tensorflow/python/data/ops/structured_function.py?line=233'>234</a>\u001b[0m \u001b[39m@eager_function\u001b[39m\u001b[39m.\u001b[39mdefun_with_attributes(\n\u001b[1;32m    <a href='file:///home/marc/miniconda3/envs/bioflow/lib/python3.10/site-packages/tensorflow/python/data/ops/structured_function.py?line=234'>235</a>\u001b[0m     input_signature\u001b[39m=\u001b[39mstructure\u001b[39m.\u001b[39mget_flat_tensor_specs(\n\u001b[1;32m    <a href='file:///home/marc/miniconda3/envs/bioflow/lib/python3.10/site-packages/tensorflow/python/data/ops/structured_function.py?line=235'>236</a>\u001b[0m         \u001b[39mself\u001b[39m\u001b[39m.\u001b[39m_input_structure),\n\u001b[1;32m    <a href='file:///home/marc/miniconda3/envs/bioflow/lib/python3.10/site-packages/tensorflow/python/data/ops/structured_function.py?line=236'>237</a>\u001b[0m     autograph\u001b[39m=\u001b[39m\u001b[39mFalse\u001b[39;00m,\n\u001b[1;32m    <a href='file:///home/marc/miniconda3/envs/bioflow/lib/python3.10/site-packages/tensorflow/python/data/ops/structured_function.py?line=237'>238</a>\u001b[0m     attributes\u001b[39m=\u001b[39mdefun_kwargs)\n\u001b[1;32m    <a href='file:///home/marc/miniconda3/envs/bioflow/lib/python3.10/site-packages/tensorflow/python/data/ops/structured_function.py?line=238'>239</a>\u001b[0m \u001b[39mdef\u001b[39;00m \u001b[39mwrapped_fn\u001b[39m(\u001b[39m*\u001b[39margs):  \u001b[39m# pylint: disable=missing-docstring\u001b[39;00m\n\u001b[0;32m--> <a href='file:///home/marc/miniconda3/envs/bioflow/lib/python3.10/site-packages/tensorflow/python/data/ops/structured_function.py?line=239'>240</a>\u001b[0m   ret \u001b[39m=\u001b[39m wrapper_helper(\u001b[39m*\u001b[39;49margs)\n\u001b[1;32m    <a href='file:///home/marc/miniconda3/envs/bioflow/lib/python3.10/site-packages/tensorflow/python/data/ops/structured_function.py?line=240'>241</a>\u001b[0m   ret \u001b[39m=\u001b[39m structure\u001b[39m.\u001b[39mto_tensor_list(\u001b[39mself\u001b[39m\u001b[39m.\u001b[39m_output_structure, ret)\n\u001b[1;32m    <a href='file:///home/marc/miniconda3/envs/bioflow/lib/python3.10/site-packages/tensorflow/python/data/ops/structured_function.py?line=241'>242</a>\u001b[0m   \u001b[39mreturn\u001b[39;00m [ops\u001b[39m.\u001b[39mconvert_to_tensor(t) \u001b[39mfor\u001b[39;00m t \u001b[39min\u001b[39;00m ret]\n",
      "File \u001b[0;32m~/miniconda3/envs/bioflow/lib/python3.10/site-packages/tensorflow/python/data/ops/structured_function.py:171\u001b[0m, in \u001b[0;36mStructuredFunctionWrapper.__init__.<locals>.wrapper_helper\u001b[0;34m(*args)\u001b[0m\n\u001b[1;32m    <a href='file:///home/marc/miniconda3/envs/bioflow/lib/python3.10/site-packages/tensorflow/python/data/ops/structured_function.py?line=168'>169</a>\u001b[0m \u001b[39mif\u001b[39;00m \u001b[39mnot\u001b[39;00m _should_unpack(nested_args):\n\u001b[1;32m    <a href='file:///home/marc/miniconda3/envs/bioflow/lib/python3.10/site-packages/tensorflow/python/data/ops/structured_function.py?line=169'>170</a>\u001b[0m   nested_args \u001b[39m=\u001b[39m (nested_args,)\n\u001b[0;32m--> <a href='file:///home/marc/miniconda3/envs/bioflow/lib/python3.10/site-packages/tensorflow/python/data/ops/structured_function.py?line=170'>171</a>\u001b[0m ret \u001b[39m=\u001b[39m autograph\u001b[39m.\u001b[39;49mtf_convert(\u001b[39mself\u001b[39;49m\u001b[39m.\u001b[39;49m_func, ag_ctx)(\u001b[39m*\u001b[39;49mnested_args)\n\u001b[1;32m    <a href='file:///home/marc/miniconda3/envs/bioflow/lib/python3.10/site-packages/tensorflow/python/data/ops/structured_function.py?line=171'>172</a>\u001b[0m ret \u001b[39m=\u001b[39m variable_utils\u001b[39m.\u001b[39mconvert_variables_to_tensors(ret)\n\u001b[1;32m    <a href='file:///home/marc/miniconda3/envs/bioflow/lib/python3.10/site-packages/tensorflow/python/data/ops/structured_function.py?line=172'>173</a>\u001b[0m \u001b[39mif\u001b[39;00m _should_pack(ret):\n",
      "File \u001b[0;32m~/miniconda3/envs/bioflow/lib/python3.10/site-packages/tensorflow/python/autograph/impl/api.py:692\u001b[0m, in \u001b[0;36mconvert.<locals>.decorator.<locals>.wrapper\u001b[0;34m(*args, **kwargs)\u001b[0m\n\u001b[1;32m    <a href='file:///home/marc/miniconda3/envs/bioflow/lib/python3.10/site-packages/tensorflow/python/autograph/impl/api.py?line=689'>690</a>\u001b[0m \u001b[39mexcept\u001b[39;00m \u001b[39mException\u001b[39;00m \u001b[39mas\u001b[39;00m e:  \u001b[39m# pylint:disable=broad-except\u001b[39;00m\n\u001b[1;32m    <a href='file:///home/marc/miniconda3/envs/bioflow/lib/python3.10/site-packages/tensorflow/python/autograph/impl/api.py?line=690'>691</a>\u001b[0m   \u001b[39mif\u001b[39;00m \u001b[39mhasattr\u001b[39m(e, \u001b[39m'\u001b[39m\u001b[39mag_error_metadata\u001b[39m\u001b[39m'\u001b[39m):\n\u001b[0;32m--> <a href='file:///home/marc/miniconda3/envs/bioflow/lib/python3.10/site-packages/tensorflow/python/autograph/impl/api.py?line=691'>692</a>\u001b[0m     \u001b[39mraise\u001b[39;00m e\u001b[39m.\u001b[39mag_error_metadata\u001b[39m.\u001b[39mto_exception(e)\n\u001b[1;32m    <a href='file:///home/marc/miniconda3/envs/bioflow/lib/python3.10/site-packages/tensorflow/python/autograph/impl/api.py?line=692'>693</a>\u001b[0m   \u001b[39melse\u001b[39;00m:\n\u001b[1;32m    <a href='file:///home/marc/miniconda3/envs/bioflow/lib/python3.10/site-packages/tensorflow/python/autograph/impl/api.py?line=693'>694</a>\u001b[0m     \u001b[39mraise\u001b[39;00m\n",
      "File \u001b[0;32m~/miniconda3/envs/bioflow/lib/python3.10/site-packages/tensorflow/python/autograph/impl/api.py:689\u001b[0m, in \u001b[0;36mconvert.<locals>.decorator.<locals>.wrapper\u001b[0;34m(*args, **kwargs)\u001b[0m\n\u001b[1;32m    <a href='file:///home/marc/miniconda3/envs/bioflow/lib/python3.10/site-packages/tensorflow/python/autograph/impl/api.py?line=686'>687</a>\u001b[0m \u001b[39mtry\u001b[39;00m:\n\u001b[1;32m    <a href='file:///home/marc/miniconda3/envs/bioflow/lib/python3.10/site-packages/tensorflow/python/autograph/impl/api.py?line=687'>688</a>\u001b[0m   \u001b[39mwith\u001b[39;00m conversion_ctx:\n\u001b[0;32m--> <a href='file:///home/marc/miniconda3/envs/bioflow/lib/python3.10/site-packages/tensorflow/python/autograph/impl/api.py?line=688'>689</a>\u001b[0m     \u001b[39mreturn\u001b[39;00m converted_call(f, args, kwargs, options\u001b[39m=\u001b[39;49moptions)\n\u001b[1;32m    <a href='file:///home/marc/miniconda3/envs/bioflow/lib/python3.10/site-packages/tensorflow/python/autograph/impl/api.py?line=689'>690</a>\u001b[0m \u001b[39mexcept\u001b[39;00m \u001b[39mException\u001b[39;00m \u001b[39mas\u001b[39;00m e:  \u001b[39m# pylint:disable=broad-except\u001b[39;00m\n\u001b[1;32m    <a href='file:///home/marc/miniconda3/envs/bioflow/lib/python3.10/site-packages/tensorflow/python/autograph/impl/api.py?line=690'>691</a>\u001b[0m   \u001b[39mif\u001b[39;00m \u001b[39mhasattr\u001b[39m(e, \u001b[39m'\u001b[39m\u001b[39mag_error_metadata\u001b[39m\u001b[39m'\u001b[39m):\n",
      "File \u001b[0;32m~/miniconda3/envs/bioflow/lib/python3.10/site-packages/tensorflow/python/autograph/impl/api.py:439\u001b[0m, in \u001b[0;36mconverted_call\u001b[0;34m(f, args, kwargs, caller_fn_scope, options)\u001b[0m\n\u001b[1;32m    <a href='file:///home/marc/miniconda3/envs/bioflow/lib/python3.10/site-packages/tensorflow/python/autograph/impl/api.py?line=436'>437</a>\u001b[0m \u001b[39mtry\u001b[39;00m:\n\u001b[1;32m    <a href='file:///home/marc/miniconda3/envs/bioflow/lib/python3.10/site-packages/tensorflow/python/autograph/impl/api.py?line=437'>438</a>\u001b[0m   \u001b[39mif\u001b[39;00m kwargs \u001b[39mis\u001b[39;00m \u001b[39mnot\u001b[39;00m \u001b[39mNone\u001b[39;00m:\n\u001b[0;32m--> <a href='file:///home/marc/miniconda3/envs/bioflow/lib/python3.10/site-packages/tensorflow/python/autograph/impl/api.py?line=438'>439</a>\u001b[0m     result \u001b[39m=\u001b[39m converted_f(\u001b[39m*\u001b[39;49meffective_args, \u001b[39m*\u001b[39;49m\u001b[39m*\u001b[39;49mkwargs)\n\u001b[1;32m    <a href='file:///home/marc/miniconda3/envs/bioflow/lib/python3.10/site-packages/tensorflow/python/autograph/impl/api.py?line=439'>440</a>\u001b[0m   \u001b[39melse\u001b[39;00m:\n\u001b[1;32m    <a href='file:///home/marc/miniconda3/envs/bioflow/lib/python3.10/site-packages/tensorflow/python/autograph/impl/api.py?line=440'>441</a>\u001b[0m     result \u001b[39m=\u001b[39m converted_f(\u001b[39m*\u001b[39meffective_args)\n",
      "File \u001b[0;32m/tmp/__autograph_generated_filejt77hvmj.py:5\u001b[0m, in \u001b[0;36mouter_factory.<locals>.inner_factory.<locals>.<lambda>\u001b[0;34m(*dicts)\u001b[0m\n\u001b[1;32m      <a href='file:///tmp/__autograph_generated_filejt77hvmj.py?line=3'>4</a>\u001b[0m \u001b[39mdef\u001b[39;00m \u001b[39minner_factory\u001b[39m(ag__):\n\u001b[0;32m----> <a href='file:///tmp/__autograph_generated_filejt77hvmj.py?line=4'>5</a>\u001b[0m     tf__lam \u001b[39m=\u001b[39m \u001b[39mlambda\u001b[39;00m \u001b[39m*\u001b[39mdicts: ag__\u001b[39m.\u001b[39;49mwith_function_scope(\u001b[39mlambda\u001b[39;49;00m lscope: ag__\u001b[39m.\u001b[39;49mconverted_call(merge_nested_dicts, (dicts,), \u001b[39mNone\u001b[39;49;00m, lscope), \u001b[39m'\u001b[39;49m\u001b[39mlscope\u001b[39;49m\u001b[39m'\u001b[39;49m, ag__\u001b[39m.\u001b[39;49mSTD)\n\u001b[1;32m      <a href='file:///tmp/__autograph_generated_filejt77hvmj.py?line=5'>6</a>\u001b[0m     \u001b[39mreturn\u001b[39;00m tf__lam\n",
      "File \u001b[0;32m~/miniconda3/envs/bioflow/lib/python3.10/site-packages/tensorflow/python/autograph/core/function_wrappers.py:113\u001b[0m, in \u001b[0;36mwith_function_scope\u001b[0;34m(thunk, scope_name, options)\u001b[0m\n\u001b[1;32m    <a href='file:///home/marc/miniconda3/envs/bioflow/lib/python3.10/site-packages/tensorflow/python/autograph/core/function_wrappers.py?line=110'>111</a>\u001b[0m \u001b[39m\u001b[39m\u001b[39m\"\"\"Inline version of the FunctionScope context manager.\"\"\"\u001b[39;00m\n\u001b[1;32m    <a href='file:///home/marc/miniconda3/envs/bioflow/lib/python3.10/site-packages/tensorflow/python/autograph/core/function_wrappers.py?line=111'>112</a>\u001b[0m \u001b[39mwith\u001b[39;00m FunctionScope(\u001b[39m'\u001b[39m\u001b[39mlambda_\u001b[39m\u001b[39m'\u001b[39m, scope_name, options) \u001b[39mas\u001b[39;00m scope:\n\u001b[0;32m--> <a href='file:///home/marc/miniconda3/envs/bioflow/lib/python3.10/site-packages/tensorflow/python/autograph/core/function_wrappers.py?line=112'>113</a>\u001b[0m   \u001b[39mreturn\u001b[39;00m thunk(scope)\n",
      "File \u001b[0;32m/tmp/__autograph_generated_filejt77hvmj.py:5\u001b[0m, in \u001b[0;36mouter_factory.<locals>.inner_factory.<locals>.<lambda>\u001b[0;34m(lscope)\u001b[0m\n\u001b[1;32m      <a href='file:///tmp/__autograph_generated_filejt77hvmj.py?line=3'>4</a>\u001b[0m \u001b[39mdef\u001b[39;00m \u001b[39minner_factory\u001b[39m(ag__):\n\u001b[0;32m----> <a href='file:///tmp/__autograph_generated_filejt77hvmj.py?line=4'>5</a>\u001b[0m     tf__lam \u001b[39m=\u001b[39m \u001b[39mlambda\u001b[39;00m \u001b[39m*\u001b[39mdicts: ag__\u001b[39m.\u001b[39mwith_function_scope(\u001b[39mlambda\u001b[39;00m lscope: ag__\u001b[39m.\u001b[39;49mconverted_call(merge_nested_dicts, (dicts,), \u001b[39mNone\u001b[39;49;00m, lscope), \u001b[39m'\u001b[39m\u001b[39mlscope\u001b[39m\u001b[39m'\u001b[39m, ag__\u001b[39m.\u001b[39mSTD)\n\u001b[1;32m      <a href='file:///tmp/__autograph_generated_filejt77hvmj.py?line=5'>6</a>\u001b[0m     \u001b[39mreturn\u001b[39;00m tf__lam\n",
      "File \u001b[0;32m~/miniconda3/envs/bioflow/lib/python3.10/site-packages/tensorflow/python/autograph/impl/api.py:441\u001b[0m, in \u001b[0;36mconverted_call\u001b[0;34m(f, args, kwargs, caller_fn_scope, options)\u001b[0m\n\u001b[1;32m    <a href='file:///home/marc/miniconda3/envs/bioflow/lib/python3.10/site-packages/tensorflow/python/autograph/impl/api.py?line=438'>439</a>\u001b[0m     result \u001b[39m=\u001b[39m converted_f(\u001b[39m*\u001b[39meffective_args, \u001b[39m*\u001b[39m\u001b[39m*\u001b[39mkwargs)\n\u001b[1;32m    <a href='file:///home/marc/miniconda3/envs/bioflow/lib/python3.10/site-packages/tensorflow/python/autograph/impl/api.py?line=439'>440</a>\u001b[0m   \u001b[39melse\u001b[39;00m:\n\u001b[0;32m--> <a href='file:///home/marc/miniconda3/envs/bioflow/lib/python3.10/site-packages/tensorflow/python/autograph/impl/api.py?line=440'>441</a>\u001b[0m     result \u001b[39m=\u001b[39m converted_f(\u001b[39m*\u001b[39;49meffective_args)\n\u001b[1;32m    <a href='file:///home/marc/miniconda3/envs/bioflow/lib/python3.10/site-packages/tensorflow/python/autograph/impl/api.py?line=441'>442</a>\u001b[0m \u001b[39mexcept\u001b[39;00m \u001b[39mException\u001b[39;00m \u001b[39mas\u001b[39;00m e:\n\u001b[1;32m    <a href='file:///home/marc/miniconda3/envs/bioflow/lib/python3.10/site-packages/tensorflow/python/autograph/impl/api.py?line=442'>443</a>\u001b[0m   _attach_error_metadata(e, converted_f)\n",
      "\u001b[0;31mTypeError\u001b[0m: in user code:\n\n    File \"/tmp/ipykernel_87154/1186788693.py\", line 1, in None  *\n        lambda *dicts: merge_nested_dicts(dicts)\n\n    TypeError: outer_factory.<locals>.inner_factory.<locals>.tf__merge_nested_dicts() missing 1 required positional argument: 'd2'\n"
     ]
    }
   ],
   "source": [
    "dm = dz.map(lambda *dicts: merge_dicts_2(dicts))\n",
    "dm\n",
    "\n",
    "next(iter(dm))"
   ]
  },
  {
   "cell_type": "code",
   "execution_count": null,
   "metadata": {},
   "outputs": [],
   "source": []
  },
  {
   "cell_type": "code",
   "execution_count": 65,
   "metadata": {},
   "outputs": [
    {
     "ename": "SyntaxError",
     "evalue": "dict unpacking cannot be used in dict comprehension (2050226427.py, line 1)",
     "output_type": "error",
     "traceback": [
      "\u001b[0;36m  Cell \u001b[0;32mIn[65], line 1\u001b[0;36m\u001b[0m\n\u001b[0;31m    dm = dz.map(lambda *args: {**x for x in args})\u001b[0m\n\u001b[0m                               ^\u001b[0m\n\u001b[0;31mSyntaxError\u001b[0m\u001b[0;31m:\u001b[0m dict unpacking cannot be used in dict comprehension\n"
     ]
    }
   ],
   "source": [
    "dm = dz.map(lambda *args: {**x for x in args})\n",
    "dm\n",
    "\n",
    "next(iter(dm))"
   ]
  },
  {
   "cell_type": "code",
   "execution_count": 71,
   "metadata": {},
   "outputs": [
    {
     "data": {
      "text/plain": [
       "[<tf.Tensor: shape=(), dtype=string, numpy=b'd1'>,\n",
       " <tf.Tensor: shape=(), dtype=int32, numpy=1>]"
      ]
     },
     "execution_count": 71,
     "metadata": {},
     "output_type": "execute_result"
    }
   ],
   "source": [
    "tf.nest.flatten(x1, expand_composites=True)"
   ]
  },
  {
   "cell_type": "code",
   "execution_count": 73,
   "metadata": {},
   "outputs": [
    {
     "ename": "AttributeError",
     "evalue": "module 'pyBigWig' has no attribute '__verison__'",
     "output_type": "error",
     "traceback": [
      "\u001b[0;31m---------------------------------------------------------------------------\u001b[0m",
      "\u001b[0;31mAttributeError\u001b[0m                            Traceback (most recent call last)",
      "Cell \u001b[0;32mIn[73], line 2\u001b[0m\n\u001b[1;32m      1\u001b[0m \u001b[38;5;28;01mimport\u001b[39;00m \u001b[38;5;21;01mpyBigWig\u001b[39;00m\n\u001b[0;32m----> 2\u001b[0m \u001b[38;5;28mprint\u001b[39m(\u001b[43mpyBigWig\u001b[49m\u001b[38;5;241;43m.\u001b[39;49m\u001b[43m__verison__\u001b[49m)\n",
      "\u001b[0;31mAttributeError\u001b[0m: module 'pyBigWig' has no attribute '__verison__'"
     ]
    }
   ],
   "source": [
    "import pyBigWig\n",
    "print(pyBigWig.__verison__)"
   ]
  }
 ],
 "metadata": {
  "interpreter": {
   "hash": "921f9b6c09b878a5d0bda5ea1d77d940e10ba56e9ae7f606fddb109a1ea3e17e"
  },
  "kernelspec": {
   "display_name": "Python 3.10.8 ('bioflow')",
   "language": "python",
   "name": "python3"
  },
  "language_info": {
   "codemirror_mode": {
    "name": "ipython",
    "version": 3
   },
   "file_extension": ".py",
   "mimetype": "text/x-python",
   "name": "python",
   "nbconvert_exporter": "python",
   "pygments_lexer": "ipython3",
   "version": "3.10.8"
  },
  "orig_nbformat": 4
 },
 "nbformat": 4,
 "nbformat_minor": 2
}
